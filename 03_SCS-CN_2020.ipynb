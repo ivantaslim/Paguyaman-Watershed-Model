{
 "cells": [
  {
   "cell_type": "code",
   "execution_count": 12,
   "id": "5cea2048-12de-47e2-8b12-e22766d8156e",
   "metadata": {},
   "outputs": [
    {
     "data": {
      "text/html": [
       "\n",
       "            <style>\n",
       "                .geemap-dark {\n",
       "                    --jp-widgets-color: white;\n",
       "                    --jp-widgets-label-color: white;\n",
       "                    --jp-ui-font-color1: white;\n",
       "                    --jp-layout-color2: #454545;\n",
       "                    background-color: #383838;\n",
       "                }\n",
       "\n",
       "                .geemap-dark .jupyter-button {\n",
       "                    --jp-layout-color3: #383838;\n",
       "                }\n",
       "\n",
       "                .geemap-colab {\n",
       "                    background-color: var(--colab-primary-surface-color, white);\n",
       "                }\n",
       "\n",
       "                .geemap-colab .jupyter-button {\n",
       "                    --jp-layout-color3: var(--colab-primary-surface-color, white);\n",
       "                }\n",
       "            </style>\n",
       "            "
      ],
      "text/plain": [
       "<IPython.core.display.HTML object>"
      ]
     },
     "metadata": {},
     "output_type": "display_data"
    },
    {
     "data": {
      "application/vnd.jupyter.widget-view+json": {
       "model_id": "f0c1c3a84ce9428e9a00e854c807e016",
       "version_major": 2,
       "version_minor": 0
      },
      "text/plain": [
       "Map(center=[0.7139019338201237, 122.37991662440572], controls=(WidgetControl(options=['position', 'transparent…"
      ]
     },
     "execution_count": 12,
     "metadata": {},
     "output_type": "execute_result"
    }
   ],
   "source": [
    "# Memanggil library yang dibutuhkan\n",
    "import ee\n",
    "import geemap\n",
    "\n",
    "# Autentikasi dan Inisialisasi\n",
    "ee.Authenticate()\n",
    "ee.Initialize()\n",
    "\n",
    "# Membuat peta interaktif\n",
    "Map = geemap.Map()\n",
    "\n",
    "# --- GANTI DENGAN PATH ASET BARU ANDA UNTUK TAHUN 2020 ---\n",
    "path_aset_lc_2020 = \"users/ivan_taslim/LC_Paguyaman_2020_DW_Generated\"\n",
    "\n",
    "# Memuat raster tutupan lahan 2020 yang baru\n",
    "lc_2020 = ee.Image(path_aset_lc_2020)\n",
    "aoi = lc_2020.geometry()\n",
    "\n",
    "# Menampilkan AOI di peta\n",
    "Map.addLayer(aoi, {'color': 'red'}, 'Batas DAS Paguyaman (AOI)')\n",
    "Map.centerObject(aoi, 11)\n",
    "Map"
   ]
  },
  {
   "cell_type": "code",
   "execution_count": 13,
   "id": "c4ae434e-60fa-4217-9814-7721411d9448",
   "metadata": {},
   "outputs": [
    {
     "data": {
      "text/html": [
       "\n",
       "            <style>\n",
       "                .geemap-dark {\n",
       "                    --jp-widgets-color: white;\n",
       "                    --jp-widgets-label-color: white;\n",
       "                    --jp-ui-font-color1: white;\n",
       "                    --jp-layout-color2: #454545;\n",
       "                    background-color: #383838;\n",
       "                }\n",
       "\n",
       "                .geemap-dark .jupyter-button {\n",
       "                    --jp-layout-color3: #383838;\n",
       "                }\n",
       "\n",
       "                .geemap-colab {\n",
       "                    background-color: var(--colab-primary-surface-color, white);\n",
       "                }\n",
       "\n",
       "                .geemap-colab .jupyter-button {\n",
       "                    --jp-layout-color3: var(--colab-primary-surface-color, white);\n",
       "                }\n",
       "            </style>\n",
       "            "
      ],
      "text/plain": [
       "<IPython.core.display.HTML object>"
      ]
     },
     "metadata": {},
     "output_type": "display_data"
    },
    {
     "name": "stdout",
     "output_type": "stream",
     "text": [
      "Peta Grup Hidrologi Tanah (HSG) berhasil dibuat.\n"
     ]
    }
   ],
   "source": [
    "# Memuat data properti tanah dari SoilGrids dan memilih lapisan teratas\n",
    "sand = ee.Image(\"projects/soilgrids-isric/sand_mean\").select(0).clip(aoi)\n",
    "silt = ee.Image(\"projects/soilgrids-isric/silt_mean\").select(0).clip(aoi)\n",
    "clay = ee.Image(\"projects/soilgrids-isric/clay_mean\").select(0).clip(aoi)\n",
    "\n",
    "# Mengestimasi Grup Hidrologi Tanah (HSG)\n",
    "hsg = ee.Image(4).where(sand.gt(50), 1) \\\n",
    "                 .where(silt.gt(50), 2) \\\n",
    "                 .where(clay.gt(40), 3) \\\n",
    "                 .rename('hsg')\n",
    "\n",
    "# Menampilkan peta HSG\n",
    "hsg_palette = ['#FFFF00', '#00FF00', '#0000FF', '#FF0000']\n",
    "Map.addLayer(hsg, {'min': 1, 'max': 4, 'palette': hsg_palette}, 'Peta Grup Hidrologi Tanah (HSG)')\n",
    "\n",
    "print(\"Peta Grup Hidrologi Tanah (HSG) berhasil dibuat.\")"
   ]
  },
  {
   "cell_type": "code",
   "execution_count": 15,
   "id": "53aea9ac-6655-469e-ade6-70c2966b0df7",
   "metadata": {},
   "outputs": [
    {
     "data": {
      "text/html": [
       "\n",
       "            <style>\n",
       "                .geemap-dark {\n",
       "                    --jp-widgets-color: white;\n",
       "                    --jp-widgets-label-color: white;\n",
       "                    --jp-ui-font-color1: white;\n",
       "                    --jp-layout-color2: #454545;\n",
       "                    background-color: #383838;\n",
       "                }\n",
       "\n",
       "                .geemap-dark .jupyter-button {\n",
       "                    --jp-layout-color3: #383838;\n",
       "                }\n",
       "\n",
       "                .geemap-colab {\n",
       "                    background-color: var(--colab-primary-surface-color, white);\n",
       "                }\n",
       "\n",
       "                .geemap-colab .jupyter-button {\n",
       "                    --jp-layout-color3: var(--colab-primary-surface-color, white);\n",
       "                }\n",
       "            </style>\n",
       "            "
      ],
      "text/plain": [
       "<IPython.core.display.HTML object>"
      ]
     },
     "metadata": {},
     "output_type": "display_data"
    },
    {
     "name": "stdout",
     "output_type": "stream",
     "text": [
      "Peta Curve Number (CN) untuk tahun 2020 berhasil dibuat.\n"
     ]
    }
   ],
   "source": [
    "# Kamus penerjemah Curve Number (CN)\n",
    "lc_values = [1, 2, 3, 4, 6] # Sesuai skema reklasifikasi baru\n",
    "cn_values_by_hsg = [\n",
    "    [30, 55, 70, 77], # 1: Hutan\n",
    "    [49, 69, 79, 84], # 2: Lahan terbuka\n",
    "    [72, 81, 88, 91], # 3: Sawah\n",
    "    [67, 78, 85, 89], # 4: Pertanian\n",
    "    [89, 92, 94, 95]  # 6: Area terbangun & Air\n",
    "]\n",
    "\n",
    "# Proses pembuatan Peta CN\n",
    "cn_map_2020 = ee.Image(0).rename('cn')\n",
    "for i in range(len(lc_values)):\n",
    "    lc_class = lc_values[i]\n",
    "    cn_hsg_a, cn_hsg_b, cn_hsg_c, cn_hsg_d = cn_values_by_hsg[i]\n",
    "    \n",
    "    cn_map_2020 = cn_map_2020.where(lc_2020.eq(lc_class).And(hsg.eq(1)), cn_hsg_a) \\\n",
    "                             .where(lc_2020.eq(lc_class).And(hsg.eq(2)), cn_hsg_b) \\\n",
    "                             .where(lc_2020.eq(lc_class).And(hsg.eq(3)), cn_hsg_c) \\\n",
    "                             .where(lc_2020.eq(lc_class).And(hsg.eq(4)), cn_hsg_d)\n",
    "\n",
    "# Menambahkan masker untuk menghilangkan piksel nol\n",
    "cn_map_2020 = cn_map_2020.updateMask(cn_map_2020.gt(0))\n",
    "\n",
    "# Menampilkan peta CN\n",
    "cn_palette = ['#32CD32', '#FFFF00', '#FFA500', '#FF0000']\n",
    "Map.addLayer(cn_map_2020, {'min': 30, 'max': 100, 'palette': cn_palette}, 'Peta Curve Number 2020')\n",
    "\n",
    "print(\"Peta Curve Number (CN) untuk tahun 2020 berhasil dibuat.\")"
   ]
  },
  {
   "cell_type": "code",
   "execution_count": 16,
   "id": "cdcfda66-1a57-40b3-a4ec-1f7dd284cc1d",
   "metadata": {},
   "outputs": [
    {
     "data": {
      "text/html": [
       "\n",
       "            <style>\n",
       "                .geemap-dark {\n",
       "                    --jp-widgets-color: white;\n",
       "                    --jp-widgets-label-color: white;\n",
       "                    --jp-ui-font-color1: white;\n",
       "                    --jp-layout-color2: #454545;\n",
       "                    background-color: #383838;\n",
       "                }\n",
       "\n",
       "                .geemap-dark .jupyter-button {\n",
       "                    --jp-layout-color3: #383838;\n",
       "                }\n",
       "\n",
       "                .geemap-colab {\n",
       "                    background-color: var(--colab-primary-surface-color, white);\n",
       "                }\n",
       "\n",
       "                .geemap-colab .jupyter-button {\n",
       "                    --jp-layout-color3: var(--colab-primary-surface-color, white);\n",
       "                }\n",
       "            </style>\n",
       "            "
      ],
      "text/plain": [
       "<IPython.core.display.HTML object>"
      ]
     },
     "metadata": {},
     "output_type": "display_data"
    },
    {
     "name": "stdout",
     "output_type": "stream",
     "text": [
      "======================================================================\n",
      "HASIL ANALISIS ULANG LIMPASAN PERMUKAAN TAHUN 2020\n",
      "(Skenario Hujan: 100 mm/24 jam)\n",
      "----------------------------------------------------------------------\n",
      "Total Volume Limpasan: 94,824,895.37 meter kubik\n",
      "======================================================================\n"
     ]
    }
   ],
   "source": [
    "# Definisikan skenario curah hujan dalam 24 jam (dalam mm)\n",
    "P = 100\n",
    "\n",
    "# Menghitung Potensi Retensi Maksimum (S)\n",
    "S = (ee.Image(1000).divide(cn_map_2020).subtract(10)).multiply(25.4)\n",
    "# Menghitung Abstraksi Awal (Ia)\n",
    "Ia = S.multiply(0.2)\n",
    "\n",
    "# Menghitung Limpasan Permukaan (Q) dengan metode aman\n",
    "P_img = ee.Image(P)\n",
    "numerator = (P_img.subtract(Ia)).pow(2)\n",
    "denominator = (P_img.subtract(Ia)).add(S)\n",
    "potential_Q = numerator.divide(denominator)\n",
    "runoff_condition = P_img.gt(Ia)\n",
    "Q_2016 = ee.Image(0).where(runoff_condition, potential_Q).rename('runoff_mm')\n",
    "\n",
    "# Menghitung total volume limpasan dalam meter kubik (m3)\n",
    "pixel_area_m2 = ee.Image.pixelArea()\n",
    "runoff_m3 = Q_2020.divide(1000).multiply(pixel_area_m2)\n",
    "total_runoff_volume_2020 = runoff_m3.reduceRegion(\n",
    "    reducer=ee.Reducer.sum(), geometry=aoi, scale=30, maxPixels=1e12\n",
    ")\n",
    "\n",
    "# Menampilkan hasil\n",
    "print(\"======================================================================\")\n",
    "print(f\"HASIL ANALISIS ULANG LIMPASAN PERMUKAAN TAHUN 2020\")\n",
    "print(f\"(Skenario Hujan: {P} mm/24 jam)\")\n",
    "print(\"----------------------------------------------------------------------\")\n",
    "print(f\"Total Volume Limpasan: {total_runoff_volume_2020.get('runoff_mm').getInfo():,.2f} meter kubik\")\n",
    "print(\"======================================================================\")\n",
    "\n",
    "# Menampilkan peta limpasan\n",
    "runoff_palette = ['#FFFFFF', '#FFFF00', '#FFA500', '#FF0000', '#800000']\n",
    "Map.addLayer(Q_2020, {'min': 0, 'max': 80, 'palette': runoff_palette}, 'Peta Limpasan Permukaan 2020 (mm)')"
   ]
  },
  {
   "cell_type": "code",
   "execution_count": 17,
   "id": "0ff75961-2279-44ab-ad31-c8e423bdfbdd",
   "metadata": {},
   "outputs": [
    {
     "data": {
      "text/html": [
       "\n",
       "            <style>\n",
       "                .geemap-dark {\n",
       "                    --jp-widgets-color: white;\n",
       "                    --jp-widgets-label-color: white;\n",
       "                    --jp-ui-font-color1: white;\n",
       "                    --jp-layout-color2: #454545;\n",
       "                    background-color: #383838;\n",
       "                }\n",
       "\n",
       "                .geemap-dark .jupyter-button {\n",
       "                    --jp-layout-color3: #383838;\n",
       "                }\n",
       "\n",
       "                .geemap-colab {\n",
       "                    background-color: var(--colab-primary-surface-color, white);\n",
       "                }\n",
       "\n",
       "                .geemap-colab .jupyter-button {\n",
       "                    --jp-layout-color3: var(--colab-primary-surface-color, white);\n",
       "                }\n",
       "            </style>\n",
       "            "
      ],
      "text/plain": [
       "<IPython.core.display.HTML object>"
      ]
     },
     "metadata": {},
     "output_type": "display_data"
    },
    {
     "name": "stdout",
     "output_type": "stream",
     "text": [
      "Proses ekspor ke GEE ASSETS telah dimulai.\n",
      "Proses ekspor ke GOOGLE DRIVE telah dimulai.\n",
      "\n",
      "PERIKSA TAB 'TASKS' DI GEE CODE EDITOR UNTUK MENJALANKAN KEDUA PROSES EKSPOR.\n"
     ]
    }
   ],
   "source": [
    "# ======================================================================\n",
    "# LANGKAH 5: EKSPOR PETA LIMPASAN 2020\n",
    "# ======================================================================\n",
    "\n",
    "# 5.1 Ekspor ke GEE Assets\n",
    "task_asset = ee.batch.Export.image.toAsset(\n",
    "  image=Q_2020.toFloat(), # Konversi ke float untuk ekspor\n",
    "  description='Limpasan_Paguyaman_2020_to_Asset',\n",
    "  assetId='users/ivan_taslim/Limpasan_Paguyaman_2020', # Path aset tujuan Anda\n",
    "  region=aoi,\n",
    "  scale=30,\n",
    "  maxPixels=1e12\n",
    ")\n",
    "task_asset.start()\n",
    "print(\"Proses ekspor ke GEE ASSETS telah dimulai.\")\n",
    "\n",
    "# 5.2 Ekspor ke Google Drive\n",
    "task_drive = ee.batch.Export.image.toDrive(\n",
    "  image=Q_2020.toFloat(),\n",
    "  description='Limpasan_Paguyaman_2020_to_Drive',\n",
    "  folder='Hasil_Analisis_DAS_Paguyaman',\n",
    "  fileNamePrefix='Limpasan_Paguyaman_2020',\n",
    "  region=aoi,\n",
    "  scale=30,\n",
    "  maxPixels=1e12\n",
    ")\n",
    "task_drive.start()\n",
    "print(\"Proses ekspor ke GOOGLE DRIVE telah dimulai.\")\n",
    "print(\"\\nPERIKSA TAB 'TASKS' DI GEE CODE EDITOR UNTUK MENJALANKAN KEDUA PROSES EKSPOR.\")"
   ]
  },
  {
   "cell_type": "code",
   "execution_count": null,
   "id": "9a2f7d8e-8e61-4c82-a363-28df509c015a",
   "metadata": {},
   "outputs": [],
   "source": []
  }
 ],
 "metadata": {
  "kernelspec": {
   "display_name": "Python 3 (ipykernel)",
   "language": "python",
   "name": "python3"
  },
  "language_info": {
   "codemirror_mode": {
    "name": "ipython",
    "version": 3
   },
   "file_extension": ".py",
   "mimetype": "text/x-python",
   "name": "python",
   "nbconvert_exporter": "python",
   "pygments_lexer": "ipython3",
   "version": "3.12.10"
  }
 },
 "nbformat": 4,
 "nbformat_minor": 5
}
