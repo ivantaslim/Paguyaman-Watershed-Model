{
 "cells": [
  {
   "cell_type": "code",
   "execution_count": 6,
   "id": "232af87e-c213-4523-a0a4-5c6cc3960c61",
   "metadata": {},
   "outputs": [
    {
     "data": {
      "text/html": [
       "\n",
       "            <style>\n",
       "                .geemap-dark {\n",
       "                    --jp-widgets-color: white;\n",
       "                    --jp-widgets-label-color: white;\n",
       "                    --jp-ui-font-color1: white;\n",
       "                    --jp-layout-color2: #454545;\n",
       "                    background-color: #383838;\n",
       "                }\n",
       "\n",
       "                .geemap-dark .jupyter-button {\n",
       "                    --jp-layout-color3: #383838;\n",
       "                }\n",
       "\n",
       "                .geemap-colab {\n",
       "                    background-color: var(--colab-primary-surface-color, white);\n",
       "                }\n",
       "\n",
       "                .geemap-colab .jupyter-button {\n",
       "                    --jp-layout-color3: var(--colab-primary-surface-color, white);\n",
       "                }\n",
       "            </style>\n",
       "            "
      ],
      "text/plain": [
       "<IPython.core.display.HTML object>"
      ]
     },
     "metadata": {},
     "output_type": "display_data"
    },
    {
     "data": {
      "application/vnd.jupyter.widget-view+json": {
       "model_id": "83806341158c46b2ba30a38df5bc2425",
       "version_major": 2,
       "version_minor": 0
      },
      "text/plain": [
       "Map(center=[0.684882065189937, 122.38417668837405], controls=(WidgetControl(options=['position', 'transparent_…"
      ]
     },
     "execution_count": 6,
     "metadata": {},
     "output_type": "execute_result"
    }
   ],
   "source": [
    "# Memanggil library yang dibutuhkan\n",
    "import ee\n",
    "import geemap\n",
    "\n",
    "# Autentikasi dan Inisialisasi\n",
    "ee.Authenticate()\n",
    "ee.Initialize()\n",
    "\n",
    "# Membuat peta interaktif\n",
    "Map = geemap.Map()\n",
    "\n",
    "# ======================================================================\n",
    "# DEFINISIKAN AOI PROVINSI GORONTALO\n",
    "# ======================================================================\n",
    "# Memuat dataset batas administrasi dan memfilter untuk Gorontalo\n",
    "admin_boundaries = ee.FeatureCollection(\"FAO/GAUL/2015/level1\")\n",
    "aoi_provinsi = admin_boundaries.filter(ee.Filter.eq('ADM1_NAME', 'Gorontalo'))\n",
    "\n",
    "# Menampilkan AOI di peta\n",
    "Map.addLayer(aoi_provinsi, {'color': 'blue'}, 'Batas Provinsi Gorontalo')\n",
    "Map.centerObject(aoi_provinsi, 9)\n",
    "Map"
   ]
  },
  {
   "cell_type": "code",
   "execution_count": 9,
   "id": "bdbd394f-051a-4925-8a8f-40b38f201686",
   "metadata": {},
   "outputs": [
    {
     "data": {
      "text/html": [
       "\n",
       "            <style>\n",
       "                .geemap-dark {\n",
       "                    --jp-widgets-color: white;\n",
       "                    --jp-widgets-label-color: white;\n",
       "                    --jp-ui-font-color1: white;\n",
       "                    --jp-layout-color2: #454545;\n",
       "                    background-color: #383838;\n",
       "                }\n",
       "\n",
       "                .geemap-dark .jupyter-button {\n",
       "                    --jp-layout-color3: #383838;\n",
       "                }\n",
       "\n",
       "                .geemap-colab {\n",
       "                    background-color: var(--colab-primary-surface-color, white);\n",
       "                }\n",
       "\n",
       "                .geemap-colab .jupyter-button {\n",
       "                    --jp-layout-color3: var(--colab-primary-surface-color, white);\n",
       "                }\n",
       "            </style>\n",
       "            "
      ],
      "text/plain": [
       "<IPython.core.display.HTML object>"
      ]
     },
     "metadata": {},
     "output_type": "display_data"
    },
    {
     "name": "stdout",
     "output_type": "stream",
     "text": [
      "Peta tutupan lahan untuk seluruh Provinsi Gorontalo tahun 2020 berhasil dibuat.\n"
     ]
    }
   ],
   "source": [
    "# Tentukan tahun analisis\n",
    "YEAR = 2020\n",
    "\n",
    "# Memuat dan memproses data Dynamic World untuk Provinsi Gorontalo\n",
    "dw_collection = ee.ImageCollection('GOOGLE/DYNAMICWORLD/V1')\n",
    "dw_filtered = dw_collection.filterBounds(aoi_provinsi).filterDate(f'{YEAR}-01-01', f'{YEAR}-12-31')\n",
    "dw_composite = dw_filtered.select('label').mode()\n",
    "\n",
    "# Reklasifikasi 9 kelas DW ke skema Anda\n",
    "reclass_dictionary = {\n",
    "    'from': [0, 1, 2, 3, 4, 5, 6, 7],\n",
    "    'to':   [6, 1, 2, 3, 4, 2, 6, 2]\n",
    "}\n",
    "lc_provinsi_2020 = dw_composite.remap(reclass_dictionary['from'], reclass_dictionary['to'])\n",
    "\n",
    "# Menampilkan Peta Tutupan Lahan Provinsi Gorontalo\n",
    "final_vis_params = {\n",
    "  'min': 1, 'max': 8,\n",
    "  'palette': ['#228B22', '#FFFF00', '#9370DB', '#FFA500', '#FFFF00', '#FF0000', '#9370DB', '#228B22']\n",
    "}\n",
    "Map.addLayer(lc_provinsi_2020, final_vis_params, f'Tutupan Lahan Provinsi {YEAR}')\n",
    "\n",
    "print(f\"Peta tutupan lahan untuk seluruh Provinsi Gorontalo tahun {YEAR} berhasil dibuat.\")"
   ]
  },
  {
   "cell_type": "code",
   "execution_count": 10,
   "id": "5ac289a6-0a07-46c2-9c41-7c0395833cee",
   "metadata": {},
   "outputs": [
    {
     "data": {
      "text/html": [
       "\n",
       "            <style>\n",
       "                .geemap-dark {\n",
       "                    --jp-widgets-color: white;\n",
       "                    --jp-widgets-label-color: white;\n",
       "                    --jp-ui-font-color1: white;\n",
       "                    --jp-layout-color2: #454545;\n",
       "                    background-color: #383838;\n",
       "                }\n",
       "\n",
       "                .geemap-dark .jupyter-button {\n",
       "                    --jp-layout-color3: #383838;\n",
       "                }\n",
       "\n",
       "                .geemap-colab {\n",
       "                    background-color: var(--colab-primary-surface-color, white);\n",
       "                }\n",
       "\n",
       "                .geemap-colab .jupyter-button {\n",
       "                    --jp-layout-color3: var(--colab-primary-surface-color, white);\n",
       "                }\n",
       "            </style>\n",
       "            "
      ],
      "text/plain": [
       "<IPython.core.display.HTML object>"
      ]
     },
     "metadata": {},
     "output_type": "display_data"
    },
    {
     "name": "stdout",
     "output_type": "stream",
     "text": [
      "Peta tutupan lahan Provinsi Gorontalo berhasil dipotong sesuai batas DAS Paguyaman.\n"
     ]
    }
   ],
   "source": [
    "# --- GANTI DENGAN PATH ASET GEE BATAS DAS ANDA (Bukan tutupan lahan) ---\n",
    "path_aset_das = \"users/ivan_taslim/DAS_Paguyaman\" # CONTOH NAMA\n",
    "\n",
    "# Memuat batas DAS\n",
    "aoi_das = ee.FeatureCollection(path_aset_das)\n",
    "\n",
    "# Memotong peta tutupan lahan provinsi menggunakan batas DAS\n",
    "lc_das_2020_final = lc_provinsi_2020.clip(aoi_das)\n",
    "\n",
    "# Menampilkan hasil akhir yang sudah terpotong\n",
    "Map.addLayer(lc_das_2020_final, final_vis_params, f'Tutupan Lahan DAS Paguyaman {YEAR}')\n",
    "Map.centerObject(aoi_das, 11)\n",
    "\n",
    "print(f\"Peta tutupan lahan Provinsi Gorontalo berhasil dipotong sesuai batas DAS Paguyaman.\")"
   ]
  },
  {
   "cell_type": "code",
   "execution_count": 12,
   "id": "92428b1f-109d-4656-9a09-dc47c6f7e361",
   "metadata": {},
   "outputs": [
    {
     "data": {
      "text/html": [
       "\n",
       "            <style>\n",
       "                .geemap-dark {\n",
       "                    --jp-widgets-color: white;\n",
       "                    --jp-widgets-label-color: white;\n",
       "                    --jp-ui-font-color1: white;\n",
       "                    --jp-layout-color2: #454545;\n",
       "                    background-color: #383838;\n",
       "                }\n",
       "\n",
       "                .geemap-dark .jupyter-button {\n",
       "                    --jp-layout-color3: #383838;\n",
       "                }\n",
       "\n",
       "                .geemap-colab {\n",
       "                    background-color: var(--colab-primary-surface-color, white);\n",
       "                }\n",
       "\n",
       "                .geemap-colab .jupyter-button {\n",
       "                    --jp-layout-color3: var(--colab-primary-surface-color, white);\n",
       "                }\n",
       "            </style>\n",
       "            "
      ],
      "text/plain": [
       "<IPython.core.display.HTML object>"
      ]
     },
     "metadata": {},
     "output_type": "display_data"
    },
    {
     "name": "stdout",
     "output_type": "stream",
     "text": [
      "Proses ekspor 'LC_Paguyaman_2020_DW_Generated' telah dimulai.\n",
      "PERIKSA TAB 'TASKS' DI GOOGLE EARTH ENGINE CODE EDITOR UNTUK MENJALANKANNYA.\n"
     ]
    }
   ],
   "source": [
    "# ======================================================================\n",
    "# LANGKAH 6 (REVISI FINAL): EKSPOR PETA TAHUN 2020\n",
    "# ======================================================================\n",
    "\n",
    "# Variabel gambar yang benar untuk diekspor adalah hasil dari Langkah 3\n",
    "# Kita tidak menggunakan '..._filled' karena tidak ada proses penambalan\n",
    "gambar_final_untuk_ekspor = lc_das_2020_final \n",
    "\n",
    "# Proses ekspor ke GEE Assets\n",
    "task = ee.batch.Export.image.toAsset(\n",
    "  image=gambar_final_untuk_ekspor.toInt(),\n",
    "  description=f'LC_Paguyaman_{YEAR}_DW_Generated', # Nama Task\n",
    "  assetId=f'users/ivan_taslim/LC_Paguyaman_{YEAR}_DW_Generated', # Path aset tujuan Anda\n",
    "  region=aoi_das.geometry(),\n",
    "  scale=30,\n",
    "  maxPixels=1e12\n",
    ")\n",
    "task.start()\n",
    "\n",
    "print(f\"Proses ekspor 'LC_Paguyaman_{YEAR}_DW_Generated' telah dimulai.\")\n",
    "print(\"PERIKSA TAB 'TASKS' DI GOOGLE EARTH ENGINE CODE EDITOR UNTUK MENJALANKANNYA.\")"
   ]
  },
  {
   "cell_type": "code",
   "execution_count": 17,
   "id": "389c9ed1-94cc-4289-ae1d-9982e22220c4",
   "metadata": {},
   "outputs": [
    {
     "data": {
      "text/html": [
       "\n",
       "            <style>\n",
       "                .geemap-dark {\n",
       "                    --jp-widgets-color: white;\n",
       "                    --jp-widgets-label-color: white;\n",
       "                    --jp-ui-font-color1: white;\n",
       "                    --jp-layout-color2: #454545;\n",
       "                    background-color: #383838;\n",
       "                }\n",
       "\n",
       "                .geemap-dark .jupyter-button {\n",
       "                    --jp-layout-color3: #383838;\n",
       "                }\n",
       "\n",
       "                .geemap-colab {\n",
       "                    background-color: var(--colab-primary-surface-color, white);\n",
       "                }\n",
       "\n",
       "                .geemap-colab .jupyter-button {\n",
       "                    --jp-layout-color3: var(--colab-primary-surface-color, white);\n",
       "                }\n",
       "            </style>\n",
       "            "
      ],
      "text/plain": [
       "<IPython.core.display.HTML object>"
      ]
     },
     "metadata": {},
     "output_type": "display_data"
    },
    {
     "name": "stdout",
     "output_type": "stream",
     "text": [
      "Proses ekspor ke GOOGLE DRIVE telah dimulai.\n",
      "PERIKSA TAB 'TASKS' DI GOOGLE EARTH ENGINE CODE EDITOR UNTUK MENJALANKANNYA.\n"
     ]
    }
   ],
   "source": [
    "# ======================================================================\n",
    "# EKSPOR PETA TAHUN 2020 KE GOOGLE DRIVE\n",
    "# ======================================================================\n",
    "\n",
    "# Variabel gambar yang benar untuk diekspor adalah hasil dari Langkah 3\n",
    "gambar_final_untuk_ekspor = lc_das_2020_final\n",
    "\n",
    "# Proses ekspor ke GOOGLE DRIVE\n",
    "task_drive = ee.batch.Export.image.toDrive(\n",
    "  image=gambar_final_untuk_ekspor.toInt(),\n",
    "  description='LC_Paguyaman_2020_DW_to_Drive', # Nama Task\n",
    "  folder='Hasil_Analisis_DAS_Paguyaman', # Nama folder tujuan di Google Drive\n",
    "  fileNamePrefix='LC_Paguyaman_2020_DW_Generated', # Nama file GeoTIFF\n",
    "  region=aoi_das.geometry(),\n",
    "  scale=30,\n",
    "  maxPixels=1e12\n",
    ")\n",
    "task_drive.start()\n",
    "\n",
    "print(\"Proses ekspor ke GOOGLE DRIVE telah dimulai.\")\n",
    "print(\"PERIKSA TAB 'TASKS' DI GOOGLE EARTH ENGINE CODE EDITOR UNTUK MENJALANKANNYA.\")"
   ]
  },
  {
   "cell_type": "code",
   "execution_count": null,
   "id": "f3e746f2-f112-4e86-afed-6a656abbfff9",
   "metadata": {},
   "outputs": [],
   "source": []
  }
 ],
 "metadata": {
  "kernelspec": {
   "display_name": "Python 3 (ipykernel)",
   "language": "python",
   "name": "python3"
  },
  "language_info": {
   "codemirror_mode": {
    "name": "ipython",
    "version": 3
   },
   "file_extension": ".py",
   "mimetype": "text/x-python",
   "name": "python",
   "nbconvert_exporter": "python",
   "pygments_lexer": "ipython3",
   "version": "3.12.10"
  }
 },
 "nbformat": 4,
 "nbformat_minor": 5
}
