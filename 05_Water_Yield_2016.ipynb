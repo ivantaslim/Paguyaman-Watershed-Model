{
 "cells": [
  {
   "cell_type": "code",
   "execution_count": 3,
   "id": "89966c48-4026-4b7f-bfc5-d2616c94fcad",
   "metadata": {},
   "outputs": [
    {
     "data": {
      "text/html": [
       "\n",
       "            <style>\n",
       "                .geemap-dark {\n",
       "                    --jp-widgets-color: white;\n",
       "                    --jp-widgets-label-color: white;\n",
       "                    --jp-ui-font-color1: white;\n",
       "                    --jp-layout-color2: #454545;\n",
       "                    background-color: #383838;\n",
       "                }\n",
       "\n",
       "                .geemap-dark .jupyter-button {\n",
       "                    --jp-layout-color3: #383838;\n",
       "                }\n",
       "\n",
       "                .geemap-colab {\n",
       "                    background-color: var(--colab-primary-surface-color, white);\n",
       "                }\n",
       "\n",
       "                .geemap-colab .jupyter-button {\n",
       "                    --jp-layout-color3: var(--colab-primary-surface-color, white);\n",
       "                }\n",
       "            </style>\n",
       "            "
      ],
      "text/plain": [
       "<IPython.core.display.HTML object>"
      ]
     },
     "metadata": {},
     "output_type": "display_data"
    },
    {
     "name": "stdout",
     "output_type": "stream",
     "text": [
      "Info: Menggunakan data Presipitasi tahun 2016\n",
      "Info: Menggunakan data ET dari ERA5-Land untuk tahun 2016.\n",
      "Menghitung Water Yield dan Volume Total...\n",
      "======================================================================\n",
      "HASIL ANALISIS ULANG KETERSEDIAAN AIR (WATER YIELD) TAHUN 2016\n",
      "----------------------------------------------------------------------\n",
      "Rata-rata Water Yield: 3319.15 mm/tahun\n",
      "Total Volume Air Tersedia: 12,553,798,792.35 meter kubik/tahun\n",
      "======================================================================\n"
     ]
    },
    {
     "data": {
      "application/vnd.jupyter.widget-view+json": {
       "model_id": "fec215d775a34ef39d36af721c1b4c22",
       "version_major": 2,
       "version_minor": 0
      },
      "text/plain": [
       "Map(center=[0.7139019338201237, 122.37991662440572], controls=(WidgetControl(options=['position', 'transparent…"
      ]
     },
     "execution_count": 3,
     "metadata": {},
     "output_type": "execute_result"
    }
   ],
   "source": [
    "# ======================================================================\n",
    "# ANALISIS ULANG KETERSEDIAAN AIR (WATER YIELD) 2016 (METODE BARU)\n",
    "# ======================================================================\n",
    "\n",
    "# --- Langkah 1 & 2: Setup, AOI, dan Presipitasi ---\n",
    "import ee\n",
    "import geemap\n",
    "ee.Authenticate()\n",
    "ee.Initialize()\n",
    "Map = geemap.Map()\n",
    "\n",
    "path_aset_lc_2016 = \"users/ivan_taslim/LC_Paguyaman_2016_DW_Filled\"\n",
    "lc_2016 = ee.Image(path_aset_lc_2016)\n",
    "aoi = lc_2016.geometry()\n",
    "Map.addLayer(aoi, {'color': 'blue'}, 'Batas DAS Paguyaman (AOI)')\n",
    "Map.centerObject(aoi, 11)\n",
    "\n",
    "print(\"Info: Menggunakan data Presipitasi tahun 2016\")\n",
    "chirps = ee.ImageCollection('UCSB-CHG/CHIRPS/PENTAD')\n",
    "precipitation_2016 = chirps.filter(ee.Filter.date('2016-01-01', '2016-12-31')).sum().clip(aoi)\n",
    "\n",
    "# --- Langkah 3: Menghitung Evapotranspirasi 2016 dari ERA5-Land ---\n",
    "print(\"Info: Menggunakan data ET dari ERA5-Land untuk tahun 2016.\")\n",
    "era5_et = ee.ImageCollection('ECMWF/ERA5_LAND/MONTHLY_AGGR').filter(ee.Filter.date('2016-01-01', '2016-12-31'))\n",
    "\n",
    "# Pilih band evapotranspirasi total dan jumlahkan untuk setahun\n",
    "# Nilai asli dalam meter, kita konversi ke milimeter\n",
    "total_et_band = era5_et.select('total_evaporation_sum')\n",
    "et_annual_sum_2016 = total_et_band.sum().multiply(1000).clip(aoi)\n",
    "\n",
    "\n",
    "# --- Langkah 4: Menghitung Water Yield 2016 ---\n",
    "print(\"Menghitung Water Yield dan Volume Total...\")\n",
    "water_yield_2016 = precipitation_2016.subtract(et_annual_sum_2016).rename('water_yield')\n",
    "aoi_area_m2 = aoi.area().getInfo()\n",
    "mean_yield_mm = water_yield_2016.reduceRegion(\n",
    "    reducer=ee.Reducer.mean(), geometry=aoi, scale=30, maxPixels=1e12\n",
    ").get('water_yield').getInfo()\n",
    "mean_yield_m = mean_yield_mm / 1000\n",
    "total_water_yield_volume_2016 = aoi_area_m2 * mean_yield_m\n",
    "\n",
    "# Menampilkan hasil\n",
    "print(\"======================================================================\")\n",
    "print(\"HASIL ANALISIS ULANG KETERSEDIAAN AIR (WATER YIELD) TAHUN 2016\")\n",
    "print(\"----------------------------------------------------------------------\")\n",
    "print(f\"Rata-rata Water Yield: {mean_yield_mm:.2f} mm/tahun\")\n",
    "print(f\"Total Volume Air Tersedia: {total_water_yield_volume_2016:,.2f} meter kubik/tahun\")\n",
    "print(\"======================================================================\")\n",
    "\n",
    "Map"
   ]
  },
  {
   "cell_type": "code",
   "execution_count": 4,
   "id": "4835070c-c51b-4367-8ed1-de7c50058c72",
   "metadata": {},
   "outputs": [
    {
     "data": {
      "text/html": [
       "\n",
       "            <style>\n",
       "                .geemap-dark {\n",
       "                    --jp-widgets-color: white;\n",
       "                    --jp-widgets-label-color: white;\n",
       "                    --jp-ui-font-color1: white;\n",
       "                    --jp-layout-color2: #454545;\n",
       "                    background-color: #383838;\n",
       "                }\n",
       "\n",
       "                .geemap-dark .jupyter-button {\n",
       "                    --jp-layout-color3: #383838;\n",
       "                }\n",
       "\n",
       "                .geemap-colab {\n",
       "                    background-color: var(--colab-primary-surface-color, white);\n",
       "                }\n",
       "\n",
       "                .geemap-colab .jupyter-button {\n",
       "                    --jp-layout-color3: var(--colab-primary-surface-color, white);\n",
       "                }\n",
       "            </style>\n",
       "            "
      ],
      "text/plain": [
       "<IPython.core.display.HTML object>"
      ]
     },
     "metadata": {},
     "output_type": "display_data"
    },
    {
     "name": "stdout",
     "output_type": "stream",
     "text": [
      "Proses ekspor ke GEE ASSETS telah dimulai.\n",
      "Proses ekspor ke GOOGLE DRIVE telah dimulai.\n",
      "\n",
      "PERIKSA TAB 'TASKS' DI GEE CODE EDITOR UNTUK MENJALANKAN KEDUA PROSES EKSPOR.\n"
     ]
    }
   ],
   "source": [
    "# ======================================================================\n",
    "# EKSPOR PETA WATER YIELD 2016\n",
    "# ======================================================================\n",
    "\n",
    "# Ekspor ke GEE Assets\n",
    "task_asset = ee.batch.Export.image.toAsset(\n",
    "  image=water_yield_2016.toFloat(), # Konversi ke float untuk ekspor\n",
    "  description='WaterYield_Paguyaman_2016Fixed_to_Asset',\n",
    "  assetId='users/ivan_taslim/WaterYield_Paguyaman_2016Fixed', # Path aset tujuan Anda\n",
    "  region=aoi,\n",
    "  scale=30,\n",
    "  maxPixels=1e12\n",
    ")\n",
    "task_asset.start()\n",
    "print(\"Proses ekspor ke GEE ASSETS telah dimulai.\")\n",
    "\n",
    "# Ekspor ke Google Drive\n",
    "task_drive = ee.batch.Export.image.toDrive(\n",
    "  image=water_yield_2016.toFloat(),\n",
    "  description='WaterYield_Paguyaman_2016Fixed_to_Drive',\n",
    "  folder='Hasil_Analisis_DAS_Paguyaman',\n",
    "  fileNamePrefix='WaterYield_Paguyaman_2016Fixed',\n",
    "  region=aoi,\n",
    "  scale=30,\n",
    "  maxPixels=1e12\n",
    ")\n",
    "task_drive.start()\n",
    "print(\"Proses ekspor ke GOOGLE DRIVE telah dimulai.\")\n",
    "print(\"\\nPERIKSA TAB 'TASKS' DI GEE CODE EDITOR UNTUK MENJALANKAN KEDUA PROSES EKSPOR.\")"
   ]
  },
  {
   "cell_type": "code",
   "execution_count": null,
   "id": "ccd58e25-9aea-46e0-98ff-432e7c2f06b4",
   "metadata": {},
   "outputs": [],
   "source": []
  }
 ],
 "metadata": {
  "kernelspec": {
   "display_name": "Python 3 (ipykernel)",
   "language": "python",
   "name": "python3"
  },
  "language_info": {
   "codemirror_mode": {
    "name": "ipython",
    "version": 3
   },
   "file_extension": ".py",
   "mimetype": "text/x-python",
   "name": "python",
   "nbconvert_exporter": "python",
   "pygments_lexer": "ipython3",
   "version": "3.12.10"
  }
 },
 "nbformat": 4,
 "nbformat_minor": 5
}
