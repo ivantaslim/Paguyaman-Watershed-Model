{
 "cells": [
  {
   "cell_type": "code",
   "execution_count": 8,
   "id": "89966c48-4026-4b7f-bfc5-d2616c94fcad",
   "metadata": {},
   "outputs": [
    {
     "data": {
      "text/html": [
       "\n",
       "            <style>\n",
       "                .geemap-dark {\n",
       "                    --jp-widgets-color: white;\n",
       "                    --jp-widgets-label-color: white;\n",
       "                    --jp-ui-font-color1: white;\n",
       "                    --jp-layout-color2: #454545;\n",
       "                    background-color: #383838;\n",
       "                }\n",
       "\n",
       "                .geemap-dark .jupyter-button {\n",
       "                    --jp-layout-color3: #383838;\n",
       "                }\n",
       "\n",
       "                .geemap-colab {\n",
       "                    background-color: var(--colab-primary-surface-color, white);\n",
       "                }\n",
       "\n",
       "                .geemap-colab .jupyter-button {\n",
       "                    --jp-layout-color3: var(--colab-primary-surface-color, white);\n",
       "                }\n",
       "            </style>\n",
       "            "
      ],
      "text/plain": [
       "<IPython.core.display.HTML object>"
      ]
     },
     "metadata": {},
     "output_type": "display_data"
    },
    {
     "name": "stdout",
     "output_type": "stream",
     "text": [
      "Info: Menggunakan data Presipitasi tahun 2023 untuk analisis 2024.\n",
      "Info: Menggunakan data ET dari ERA5-Land untuk tahun 2023.\n",
      "Menghitung Water Yield dan Volume Total...\n",
      "======================================================================\n",
      "HASIL ANALISIS ULANG KETERSEDIAAN AIR (WATER YIELD) TAHUN 2024\n",
      "----------------------------------------------------------------------\n",
      "Rata-rata Water Yield: 3184.59 mm/tahun\n",
      "Total Volume Air Tersedia: 12,044,869,656.38 meter kubik/tahun\n",
      "======================================================================\n"
     ]
    },
    {
     "data": {
      "application/vnd.jupyter.widget-view+json": {
       "model_id": "1396786183d24e6c96597871917059ca",
       "version_major": 2,
       "version_minor": 0
      },
      "text/plain": [
       "Map(center=[0.7139019338201237, 122.37991662440572], controls=(WidgetControl(options=['position', 'transparent…"
      ]
     },
     "execution_count": 8,
     "metadata": {},
     "output_type": "execute_result"
    }
   ],
   "source": [
    "# ======================================================================\n",
    "# ANALISIS ULANG KETERSEDIAAN AIR (WATER YIELD) 2024 (METODE BARU)\n",
    "# ======================================================================\n",
    "\n",
    "# --- Langkah 1 & 2: Setup, AOI, dan Presipitasi ---\n",
    "import ee\n",
    "import geemap\n",
    "ee.Authenticate()\n",
    "ee.Initialize()\n",
    "Map = geemap.Map()\n",
    "\n",
    "path_aset_lc_2024 = \"users/ivan_taslim/LC_Paguyaman_2024_DW_Filled\"\n",
    "lc_2024 = ee.Image(path_aset_lc_2024)\n",
    "aoi = lc_2024.geometry()\n",
    "Map.addLayer(aoi, {'color': 'blue'}, 'Batas DAS Paguyaman (AOI)')\n",
    "Map.centerObject(aoi, 11)\n",
    "\n",
    "print(\"Info: Menggunakan data Presipitasi tahun 2023 untuk analisis 2024.\")\n",
    "chirps = ee.ImageCollection('UCSB-CHG/CHIRPS/PENTAD')\n",
    "precipitation_2024 = chirps.filter(ee.Filter.date('2023-01-01', '2023-12-31')).sum().clip(aoi)\n",
    "\n",
    "# --- Langkah 3: Menghitung Evapotranspirasi 2024 dari ERA5-Land ---\n",
    "print(\"Info: Menggunakan data ET dari ERA5-Land untuk tahun 2023.\")\n",
    "era5_et = ee.ImageCollection('ECMWF/ERA5_LAND/MONTHLY_AGGR').filter(ee.Filter.date('2023-01-01', '2023-12-31'))\n",
    "\n",
    "# Pilih band evapotranspirasi total dan jumlahkan untuk setahun\n",
    "# Nilai asli dalam meter, kita konversi ke milimeter\n",
    "total_et_band = era5_et.select('total_evaporation_sum')\n",
    "et_annual_sum_2024 = total_et_band.sum().multiply(1000).clip(aoi)\n",
    "\n",
    "\n",
    "# --- Langkah 4: Menghitung Water Yield 2024 ---\n",
    "print(\"Menghitung Water Yield dan Volume Total...\")\n",
    "water_yield_2024 = precipitation_2024.subtract(et_annual_sum_2024).rename('water_yield')\n",
    "aoi_area_m2 = aoi.area().getInfo()\n",
    "mean_yield_mm = water_yield_2024.reduceRegion(\n",
    "    reducer=ee.Reducer.mean(), geometry=aoi, scale=30, maxPixels=1e12\n",
    ").get('water_yield').getInfo()\n",
    "mean_yield_m = mean_yield_mm / 1000\n",
    "total_water_yield_volume_2024 = aoi_area_m2 * mean_yield_m\n",
    "\n",
    "# Menampilkan hasil\n",
    "print(\"======================================================================\")\n",
    "print(\"HASIL ANALISIS ULANG KETERSEDIAAN AIR (WATER YIELD) TAHUN 2024\")\n",
    "print(\"----------------------------------------------------------------------\")\n",
    "print(f\"Rata-rata Water Yield: {mean_yield_mm:.2f} mm/tahun\")\n",
    "print(f\"Total Volume Air Tersedia: {total_water_yield_volume_2024:,.2f} meter kubik/tahun\")\n",
    "print(\"======================================================================\")\n",
    "\n",
    "Map"
   ]
  },
  {
   "cell_type": "code",
   "execution_count": 11,
   "id": "b7b3f5d4-9428-42b8-b0cb-fed9d7d1fec5",
   "metadata": {},
   "outputs": [
    {
     "data": {
      "text/html": [
       "\n",
       "            <style>\n",
       "                .geemap-dark {\n",
       "                    --jp-widgets-color: white;\n",
       "                    --jp-widgets-label-color: white;\n",
       "                    --jp-ui-font-color1: white;\n",
       "                    --jp-layout-color2: #454545;\n",
       "                    background-color: #383838;\n",
       "                }\n",
       "\n",
       "                .geemap-dark .jupyter-button {\n",
       "                    --jp-layout-color3: #383838;\n",
       "                }\n",
       "\n",
       "                .geemap-colab {\n",
       "                    background-color: var(--colab-primary-surface-color, white);\n",
       "                }\n",
       "\n",
       "                .geemap-colab .jupyter-button {\n",
       "                    --jp-layout-color3: var(--colab-primary-surface-color, white);\n",
       "                }\n",
       "            </style>\n",
       "            "
      ],
      "text/plain": [
       "<IPython.core.display.HTML object>"
      ]
     },
     "metadata": {},
     "output_type": "display_data"
    },
    {
     "name": "stdout",
     "output_type": "stream",
     "text": [
      "Proses ekspor ke GEE ASSETS telah dimulai.\n",
      "Proses ekspor ke GOOGLE DRIVE telah dimulai.\n",
      "\n",
      "PERIKSA TAB 'TASKS' DI GEE CODE EDITOR UNTUK MENJALANKAN KEDUA PROSES EKSPOR.\n"
     ]
    }
   ],
   "source": [
    "# ======================================================================\n",
    "# EKSPOR PETA WATER YIELD 2024\n",
    "# ======================================================================\n",
    "\n",
    "# Ekspor ke GEE Assets\n",
    "task_asset = ee.batch.Export.image.toAsset(\n",
    "  image=water_yield_2024.toFloat(), # Konversi ke float untuk ekspor\n",
    "  description='WaterYield_Paguyaman_2024Fixed_to_Asset',\n",
    "  assetId='users/ivan_taslim/WaterYield_Paguyaman_2024Fixed', # Path aset tujuan Anda\n",
    "  region=aoi,\n",
    "  scale=30,\n",
    "  maxPixels=1e12\n",
    ")\n",
    "task_asset.start()\n",
    "print(\"Proses ekspor ke GEE ASSETS telah dimulai.\")\n",
    "\n",
    "# Ekspor ke Google Drive\n",
    "task_drive = ee.batch.Export.image.toDrive(\n",
    "  image=water_yield_2024.toFloat(),\n",
    "  description='WaterYield_Paguyaman_2024Fixed_to_Drive',\n",
    "  folder='Hasil_Analisis_DAS_Paguyaman',\n",
    "  fileNamePrefix='WaterYield_Paguyaman_2024Fixed',\n",
    "  region=aoi,\n",
    "  scale=30,\n",
    "  maxPixels=1e12\n",
    ")\n",
    "task_drive.start()\n",
    "print(\"Proses ekspor ke GOOGLE DRIVE telah dimulai.\")\n",
    "print(\"\\nPERIKSA TAB 'TASKS' DI GEE CODE EDITOR UNTUK MENJALANKAN KEDUA PROSES EKSPOR.\")"
   ]
  },
  {
   "cell_type": "code",
   "execution_count": null,
   "id": "69ec9c80-c31e-437e-85dc-f12f39e3541a",
   "metadata": {},
   "outputs": [],
   "source": []
  }
 ],
 "metadata": {
  "kernelspec": {
   "display_name": "Python 3 (ipykernel)",
   "language": "python",
   "name": "python3"
  },
  "language_info": {
   "codemirror_mode": {
    "name": "ipython",
    "version": 3
   },
   "file_extension": ".py",
   "mimetype": "text/x-python",
   "name": "python",
   "nbconvert_exporter": "python",
   "pygments_lexer": "ipython3",
   "version": "3.12.10"
  }
 },
 "nbformat": 4,
 "nbformat_minor": 5
}
