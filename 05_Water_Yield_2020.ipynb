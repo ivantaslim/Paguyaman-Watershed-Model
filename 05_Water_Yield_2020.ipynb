{
 "cells": [
  {
   "cell_type": "code",
   "execution_count": 2,
   "id": "89966c48-4026-4b7f-bfc5-d2616c94fcad",
   "metadata": {},
   "outputs": [
    {
     "data": {
      "text/html": [
       "\n",
       "            <style>\n",
       "                .geemap-dark {\n",
       "                    --jp-widgets-color: white;\n",
       "                    --jp-widgets-label-color: white;\n",
       "                    --jp-ui-font-color1: white;\n",
       "                    --jp-layout-color2: #454545;\n",
       "                    background-color: #383838;\n",
       "                }\n",
       "\n",
       "                .geemap-dark .jupyter-button {\n",
       "                    --jp-layout-color3: #383838;\n",
       "                }\n",
       "\n",
       "                .geemap-colab {\n",
       "                    background-color: var(--colab-primary-surface-color, white);\n",
       "                }\n",
       "\n",
       "                .geemap-colab .jupyter-button {\n",
       "                    --jp-layout-color3: var(--colab-primary-surface-color, white);\n",
       "                }\n",
       "            </style>\n",
       "            "
      ],
      "text/plain": [
       "<IPython.core.display.HTML object>"
      ]
     },
     "metadata": {},
     "output_type": "display_data"
    },
    {
     "name": "stdout",
     "output_type": "stream",
     "text": [
      "Info: Menggunakan data Presipitasi tahun 2020 untuk analisis 2020.\n",
      "Info: Menggunakan data ET dari ERA5-Land untuk tahun 2020.\n",
      "Menghitung Water Yield dan Volume Total...\n",
      "======================================================================\n",
      "HASIL ANALISIS ULANG KETERSEDIAAN AIR (WATER YIELD) TAHUN 2020\n",
      "----------------------------------------------------------------------\n",
      "Rata-rata Water Yield: 3743.97 mm/tahun\n",
      "Total Volume Air Tersedia: 14,160,597,285.70 meter kubik/tahun\n",
      "======================================================================\n"
     ]
    },
    {
     "data": {
      "application/vnd.jupyter.widget-view+json": {
       "model_id": "2a47c7c4cd9a4556a95e15586eb02587",
       "version_major": 2,
       "version_minor": 0
      },
      "text/plain": [
       "Map(center=[0.7139019338201237, 122.37991662440572], controls=(WidgetControl(options=['position', 'transparent…"
      ]
     },
     "execution_count": 2,
     "metadata": {},
     "output_type": "execute_result"
    }
   ],
   "source": [
    "# ======================================================================\n",
    "# ANALISIS ULANG KETERSEDIAAN AIR (WATER YIELD) 2020 (METODE BARU)\n",
    "# ======================================================================\n",
    "\n",
    "# --- Langkah 1 & 2: Setup, AOI, dan Presipitasi ---\n",
    "import ee\n",
    "import geemap\n",
    "ee.Authenticate()\n",
    "ee.Initialize()\n",
    "Map = geemap.Map()\n",
    "\n",
    "path_aset_lc_2020 = \"users/ivan_taslim/LC_Paguyaman_2020_DW_Generated\"\n",
    "lc_2020 = ee.Image(path_aset_lc_2020)\n",
    "aoi = lc_2020.geometry()\n",
    "Map.addLayer(aoi, {'color': 'blue'}, 'Batas DAS Paguyaman (AOI)')\n",
    "Map.centerObject(aoi, 11)\n",
    "\n",
    "print(\"Info: Menggunakan data Presipitasi tahun 2020 untuk analisis 2020.\")\n",
    "chirps = ee.ImageCollection('UCSB-CHG/CHIRPS/PENTAD')\n",
    "precipitation_2020 = chirps.filter(ee.Filter.date('2020-01-01', '2020-12-31')).sum().clip(aoi)\n",
    "\n",
    "# --- Langkah 3: Menghitung Evapotranspirasi 2020 dari ERA5-Land ---\n",
    "print(\"Info: Menggunakan data ET dari ERA5-Land untuk tahun 2020.\")\n",
    "era5_et = ee.ImageCollection('ECMWF/ERA5_LAND/MONTHLY_AGGR').filter(ee.Filter.date('2020-01-01', '2020-12-31'))\n",
    "\n",
    "# Pilih band evapotranspirasi total dan jumlahkan untuk setahun\n",
    "# Nilai asli dalam meter, kita konversi ke milimeter\n",
    "total_et_band = era5_et.select('total_evaporation_sum')\n",
    "et_annual_sum_2020 = total_et_band.sum().multiply(1000).clip(aoi)\n",
    "\n",
    "\n",
    "# --- Langkah 4: Menghitung Water Yield 2020 ---\n",
    "print(\"Menghitung Water Yield dan Volume Total...\")\n",
    "water_yield_2020 = precipitation_2020.subtract(et_annual_sum_2020).rename('water_yield')\n",
    "aoi_area_m2 = aoi.area().getInfo()\n",
    "mean_yield_mm = water_yield_2020.reduceRegion(\n",
    "    reducer=ee.Reducer.mean(), geometry=aoi, scale=30, maxPixels=1e12\n",
    ").get('water_yield').getInfo()\n",
    "mean_yield_m = mean_yield_mm / 1000\n",
    "total_water_yield_volume_2020 = aoi_area_m2 * mean_yield_m\n",
    "\n",
    "# Menampilkan hasil\n",
    "print(\"======================================================================\")\n",
    "print(\"HASIL ANALISIS ULANG KETERSEDIAAN AIR (WATER YIELD) TAHUN 2020\")\n",
    "print(\"----------------------------------------------------------------------\")\n",
    "print(f\"Rata-rata Water Yield: {mean_yield_mm:.2f} mm/tahun\")\n",
    "print(f\"Total Volume Air Tersedia: {total_water_yield_volume_2020:,.2f} meter kubik/tahun\")\n",
    "print(\"======================================================================\")\n",
    "\n",
    "Map"
   ]
  },
  {
   "cell_type": "code",
   "execution_count": 3,
   "id": "df1a1b7b-c9ec-4b5d-a1e7-f2fc2da191d3",
   "metadata": {},
   "outputs": [
    {
     "data": {
      "text/html": [
       "\n",
       "            <style>\n",
       "                .geemap-dark {\n",
       "                    --jp-widgets-color: white;\n",
       "                    --jp-widgets-label-color: white;\n",
       "                    --jp-ui-font-color1: white;\n",
       "                    --jp-layout-color2: #454545;\n",
       "                    background-color: #383838;\n",
       "                }\n",
       "\n",
       "                .geemap-dark .jupyter-button {\n",
       "                    --jp-layout-color3: #383838;\n",
       "                }\n",
       "\n",
       "                .geemap-colab {\n",
       "                    background-color: var(--colab-primary-surface-color, white);\n",
       "                }\n",
       "\n",
       "                .geemap-colab .jupyter-button {\n",
       "                    --jp-layout-color3: var(--colab-primary-surface-color, white);\n",
       "                }\n",
       "            </style>\n",
       "            "
      ],
      "text/plain": [
       "<IPython.core.display.HTML object>"
      ]
     },
     "metadata": {},
     "output_type": "display_data"
    },
    {
     "name": "stdout",
     "output_type": "stream",
     "text": [
      "Proses ekspor ke GEE ASSETS telah dimulai.\n",
      "Proses ekspor ke GOOGLE DRIVE telah dimulai.\n",
      "\n",
      "PERIKSA TAB 'TASKS' DI GEE CODE EDITOR UNTUK MENJALANKAN KEDUA PROSES EKSPOR.\n"
     ]
    }
   ],
   "source": [
    "# ======================================================================\n",
    "# EKSPOR PETA WATER YIELD 2020\n",
    "# ======================================================================\n",
    "\n",
    "# Ekspor ke GEE Assets\n",
    "task_asset = ee.batch.Export.image.toAsset(\n",
    "  image=water_yield_2020.toFloat(), # Konversi ke float untuk ekspor\n",
    "  description='WaterYield_Paguyaman_2020Fixed_to_Asset',\n",
    "  assetId='users/ivan_taslim/WaterYield_Paguyaman_2020Fixed', # Path aset tujuan Anda\n",
    "  region=aoi,\n",
    "  scale=30,\n",
    "  maxPixels=1e12\n",
    ")\n",
    "task_asset.start()\n",
    "print(\"Proses ekspor ke GEE ASSETS telah dimulai.\")\n",
    "\n",
    "# Ekspor ke Google Drive\n",
    "task_drive = ee.batch.Export.image.toDrive(\n",
    "  image=water_yield_2020.toFloat(),\n",
    "  description='WaterYield_Paguyaman_2020Fixed_to_Drive',\n",
    "  folder='Hasil_Analisis_DAS_Paguyaman',\n",
    "  fileNamePrefix='WaterYield_Paguyaman_2020Fixed',\n",
    "  region=aoi,\n",
    "  scale=30,\n",
    "  maxPixels=1e12\n",
    ")\n",
    "task_drive.start()\n",
    "print(\"Proses ekspor ke GOOGLE DRIVE telah dimulai.\")\n",
    "print(\"\\nPERIKSA TAB 'TASKS' DI GEE CODE EDITOR UNTUK MENJALANKAN KEDUA PROSES EKSPOR.\")"
   ]
  },
  {
   "cell_type": "code",
   "execution_count": null,
   "id": "7e7f1009-333b-4a93-b6cc-509446bd1739",
   "metadata": {},
   "outputs": [],
   "source": []
  }
 ],
 "metadata": {
  "kernelspec": {
   "display_name": "Python 3 (ipykernel)",
   "language": "python",
   "name": "python3"
  },
  "language_info": {
   "codemirror_mode": {
    "name": "ipython",
    "version": 3
   },
   "file_extension": ".py",
   "mimetype": "text/x-python",
   "name": "python",
   "nbconvert_exporter": "python",
   "pygments_lexer": "ipython3",
   "version": "3.12.10"
  }
 },
 "nbformat": 4,
 "nbformat_minor": 5
}
