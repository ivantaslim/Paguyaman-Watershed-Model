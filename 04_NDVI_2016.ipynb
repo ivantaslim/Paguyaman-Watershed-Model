{
 "cells": [
  {
   "cell_type": "code",
   "execution_count": 2,
   "id": "229a3bf4-f4e4-4267-aafd-dfc9ed6bf292",
   "metadata": {},
   "outputs": [
    {
     "data": {
      "text/html": [
       "\n",
       "            <style>\n",
       "                .geemap-dark {\n",
       "                    --jp-widgets-color: white;\n",
       "                    --jp-widgets-label-color: white;\n",
       "                    --jp-ui-font-color1: white;\n",
       "                    --jp-layout-color2: #454545;\n",
       "                    background-color: #383838;\n",
       "                }\n",
       "\n",
       "                .geemap-dark .jupyter-button {\n",
       "                    --jp-layout-color3: #383838;\n",
       "                }\n",
       "\n",
       "                .geemap-colab {\n",
       "                    background-color: var(--colab-primary-surface-color, white);\n",
       "                }\n",
       "\n",
       "                .geemap-colab .jupyter-button {\n",
       "                    --jp-layout-color3: var(--colab-primary-surface-color, white);\n",
       "                }\n",
       "            </style>\n",
       "            "
      ],
      "text/plain": [
       "<IPython.core.display.HTML object>"
      ]
     },
     "metadata": {},
     "output_type": "display_data"
    },
    {
     "data": {
      "application/vnd.jupyter.widget-view+json": {
       "model_id": "8a4288c2cc6d42db8f9b806bbf9571a8",
       "version_major": 2,
       "version_minor": 0
      },
      "text/plain": [
       "Map(center=[0.7139019338201237, 122.37991662440572], controls=(WidgetControl(options=['position', 'transparent…"
      ]
     },
     "execution_count": 2,
     "metadata": {},
     "output_type": "execute_result"
    }
   ],
   "source": [
    "# Memanggil library yang dibutuhkan\n",
    "import ee\n",
    "import geemap\n",
    "\n",
    "# Autentikasi dan Inisialisasi\n",
    "ee.Authenticate()\n",
    "ee.Initialize()\n",
    "\n",
    "# Membuat peta interaktif\n",
    "Map = geemap.Map()\n",
    "\n",
    "# --- Path ke ASET BARU Anda untuk tahun 2016 yang sudah ditambal ---\n",
    "path_aset_lc_2016 = \"users/ivan_taslim/LC_Paguyaman_2016_DW_Filled\"\n",
    "\n",
    "# Memuat raster tutupan lahan 2016 yang baru\n",
    "lc_2016 = ee.Image(path_aset_lc_2016)\n",
    "aoi = lc_2016.geometry()\n",
    "\n",
    "# Menampilkan AOI di peta\n",
    "Map.addLayer(aoi, {'color': 'yellow'}, 'Batas DAS Paguyaman (AOI)')\n",
    "Map.centerObject(aoi, 11)\n",
    "Map"
   ]
  },
  {
   "cell_type": "code",
   "execution_count": 3,
   "id": "c9cdb59b-f088-4d66-9585-98affb08bd40",
   "metadata": {},
   "outputs": [
    {
     "data": {
      "text/html": [
       "\n",
       "            <style>\n",
       "                .geemap-dark {\n",
       "                    --jp-widgets-color: white;\n",
       "                    --jp-widgets-label-color: white;\n",
       "                    --jp-ui-font-color1: white;\n",
       "                    --jp-layout-color2: #454545;\n",
       "                    background-color: #383838;\n",
       "                }\n",
       "\n",
       "                .geemap-dark .jupyter-button {\n",
       "                    --jp-layout-color3: #383838;\n",
       "                }\n",
       "\n",
       "                .geemap-colab {\n",
       "                    background-color: var(--colab-primary-surface-color, white);\n",
       "                }\n",
       "\n",
       "                .geemap-colab .jupyter-button {\n",
       "                    --jp-layout-color3: var(--colab-primary-surface-color, white);\n",
       "                }\n",
       "            </style>\n",
       "            "
      ],
      "text/plain": [
       "<IPython.core.display.HTML object>"
      ]
     },
     "metadata": {},
     "output_type": "display_data"
    },
    {
     "name": "stdout",
     "output_type": "stream",
     "text": [
      "Masker untuk memfilter area pertanian 2016 telah dibuat.\n"
     ]
    }
   ],
   "source": [
    "# Berdasarkan skema reklasifikasi baru, kelas pertanian adalah:\n",
    "# 3: Sawah / Lahan basah\n",
    "# 4: Pertanian / Perkebunan\n",
    "\n",
    "# Membuat gambar biner (nilai 1 untuk area pertanian, 0 untuk lainnya)\n",
    "agriculture_mask = lc_2016.eq(3).Or(lc_2016.eq(4))\n",
    "agriculture_mask = agriculture_mask.updateMask(agriculture_mask.eq(1))\n",
    "\n",
    "# Menampilkan area pertanian yang akan dianalisis\n",
    "Map.addLayer(agriculture_mask, {'palette': ['#E5A429']}, 'Masker Lahan Pertanian 2016')\n",
    "\n",
    "print(\"Masker untuk memfilter area pertanian 2016 telah dibuat.\")"
   ]
  },
  {
   "cell_type": "code",
   "execution_count": 4,
   "id": "95363b24-d50f-411d-b13d-d6749d173b06",
   "metadata": {},
   "outputs": [
    {
     "data": {
      "text/html": [
       "\n",
       "            <style>\n",
       "                .geemap-dark {\n",
       "                    --jp-widgets-color: white;\n",
       "                    --jp-widgets-label-color: white;\n",
       "                    --jp-ui-font-color1: white;\n",
       "                    --jp-layout-color2: #454545;\n",
       "                    background-color: #383838;\n",
       "                }\n",
       "\n",
       "                .geemap-dark .jupyter-button {\n",
       "                    --jp-layout-color3: #383838;\n",
       "                }\n",
       "\n",
       "                .geemap-colab {\n",
       "                    background-color: var(--colab-primary-surface-color, white);\n",
       "                }\n",
       "\n",
       "                .geemap-colab .jupyter-button {\n",
       "                    --jp-layout-color3: var(--colab-primary-surface-color, white);\n",
       "                }\n",
       "            </style>\n",
       "            "
      ],
      "text/plain": [
       "<IPython.core.display.HTML object>"
      ]
     },
     "metadata": {},
     "output_type": "display_data"
    },
    {
     "name": "stdout",
     "output_type": "stream",
     "text": [
      "Peta NDVI untuk tahun 2016 berhasil dibuat.\n"
     ]
    }
   ],
   "source": [
    "# Fungsi untuk menghilangkan awan dari citra Landsat\n",
    "def mask_lansat_clouds(image):\n",
    "    qa_pixel = image.select('QA_PIXEL')\n",
    "    cloud_shadow, clouds = (1 << 3), (1 << 4)\n",
    "    mask = qa_pixel.bitwiseAnd(cloud_shadow).eq(0).And(qa_pixel.bitwiseAnd(clouds).eq(0))\n",
    "    return image.updateMask(mask).divide(10000).copyProperties(image, [\"system:time_start\"])\n",
    "\n",
    "# Menghitung NDVI untuk tahun 2016\n",
    "landsat_collection = ee.ImageCollection('LANDSAT/LC08/C02/T1_L2')\n",
    "landsat_2016 = landsat_collection.filterBounds(aoi).filterDate('2016-01-01', '2016-12-31')\n",
    "landsat_2016_no_clouds = landsat_2016.map(mask_lansat_clouds)\n",
    "median_2016 = landsat_2016_no_clouds.median()\n",
    "ndvi_2016 = median_2016.normalizedDifference(['SR_B5', 'SR_B4']).rename('ndvi')\n",
    "\n",
    "# Menampilkan peta NDVI\n",
    "ndvi_palette = ['#FFFFFF', '#CE7E45', '#DF923D', '#F1B555', '#FCD163', '#99B718', '#74A901', '#66A000', '#529400', '#3E8601', '#207401', '#056201', '#004C00', '#023B01', '#012E01', '#011D01', '#011301']\n",
    "Map.addLayer(ndvi_2016.clip(aoi), {'min': 0, 'max': 1, 'palette': ndvi_palette}, 'Peta NDVI 2016')\n",
    "\n",
    "print(\"Peta NDVI untuk tahun 2016 berhasil dibuat.\")"
   ]
  },
  {
   "cell_type": "code",
   "execution_count": 5,
   "id": "1d0206f3-fb72-444c-b740-91ca75544b25",
   "metadata": {},
   "outputs": [
    {
     "data": {
      "text/html": [
       "\n",
       "            <style>\n",
       "                .geemap-dark {\n",
       "                    --jp-widgets-color: white;\n",
       "                    --jp-widgets-label-color: white;\n",
       "                    --jp-ui-font-color1: white;\n",
       "                    --jp-layout-color2: #454545;\n",
       "                    background-color: #383838;\n",
       "                }\n",
       "\n",
       "                .geemap-dark .jupyter-button {\n",
       "                    --jp-layout-color3: #383838;\n",
       "                }\n",
       "\n",
       "                .geemap-colab {\n",
       "                    background-color: var(--colab-primary-surface-color, white);\n",
       "                }\n",
       "\n",
       "                .geemap-colab .jupyter-button {\n",
       "                    --jp-layout-color3: var(--colab-primary-surface-color, white);\n",
       "                }\n",
       "            </style>\n",
       "            "
      ],
      "text/plain": [
       "<IPython.core.display.HTML object>"
      ]
     },
     "metadata": {},
     "output_type": "display_data"
    },
    {
     "name": "stdout",
     "output_type": "stream",
     "text": [
      "======================================================================\n",
      "HASIL ANALISIS ULANG PRODUKTIVITAS LAHAN (NDVI) TAHUN 2016\n",
      "----------------------------------------------------------------------\n",
      "NDVI Rata-rata di Lahan Pertanian: 0.2920\n",
      "======================================================================\n"
     ]
    }
   ],
   "source": [
    "# Menerapkan masker pertanian ke peta NDVI\n",
    "ndvi_pertanian_2016 = ndvi_2016.updateMask(agriculture_mask)\n",
    "\n",
    "# Menghitung statistik (rata-rata) NDVI di area pertanian\n",
    "stats_ndvi_2016 = ndvi_pertanian_2016.reduceRegion(\n",
    "    reducer=ee.Reducer.mean(),\n",
    "    geometry=aoi,\n",
    "    scale=30,\n",
    "    maxPixels=1e12\n",
    ")\n",
    "\n",
    "# Menampilkan hasil\n",
    "avg_ndvi_2016 = stats_ndvi_2016.get('ndvi').getInfo()\n",
    "print(\"======================================================================\")\n",
    "print(\"HASIL ANALISIS ULANG PRODUKTIVITAS LAHAN (NDVI) TAHUN 2016\")\n",
    "print(\"----------------------------------------------------------------------\")\n",
    "print(f\"NDVI Rata-rata di Lahan Pertanian: {avg_ndvi_2016:.4f}\")\n",
    "print(\"======================================================================\")"
   ]
  },
  {
   "cell_type": "code",
   "execution_count": 6,
   "id": "e8e90620-ee21-4242-9b0e-3c0c2c845363",
   "metadata": {},
   "outputs": [
    {
     "data": {
      "text/html": [
       "\n",
       "            <style>\n",
       "                .geemap-dark {\n",
       "                    --jp-widgets-color: white;\n",
       "                    --jp-widgets-label-color: white;\n",
       "                    --jp-ui-font-color1: white;\n",
       "                    --jp-layout-color2: #454545;\n",
       "                    background-color: #383838;\n",
       "                }\n",
       "\n",
       "                .geemap-dark .jupyter-button {\n",
       "                    --jp-layout-color3: #383838;\n",
       "                }\n",
       "\n",
       "                .geemap-colab {\n",
       "                    background-color: var(--colab-primary-surface-color, white);\n",
       "                }\n",
       "\n",
       "                .geemap-colab .jupyter-button {\n",
       "                    --jp-layout-color3: var(--colab-primary-surface-color, white);\n",
       "                }\n",
       "            </style>\n",
       "            "
      ],
      "text/plain": [
       "<IPython.core.display.HTML object>"
      ]
     },
     "metadata": {},
     "output_type": "display_data"
    },
    {
     "name": "stdout",
     "output_type": "stream",
     "text": [
      "Proses ekspor ke GEE ASSETS telah dimulai.\n",
      "Proses ekspor ke GOOGLE DRIVE telah dimulai.\n",
      "\n",
      "PERIKSA TAB 'TASKS' DI GEE CODE EDITOR UNTUK MENJALANKAN KEDUA PROSES EKSPOR.\n"
     ]
    }
   ],
   "source": [
    "# ======================================================================\n",
    "# LANGKAH 5: EKSPOR PETA NDVI 2016\n",
    "# ======================================================================\n",
    "\n",
    "# 5.1 Ekspor ke GEE Assets\n",
    "task_asset = ee.batch.Export.image.toAsset(\n",
    "  image=ndvi_2016.toFloat(), # Konversi ke float untuk ekspor\n",
    "  description='NDVI_Paguyaman_2016_to_Asset',\n",
    "  assetId='users/ivan_taslim/NDVI_Paguyaman_2016', # Path aset tujuan Anda\n",
    "  region=aoi,\n",
    "  scale=30,\n",
    "  maxPixels=1e12\n",
    ")\n",
    "task_asset.start()\n",
    "print(\"Proses ekspor ke GEE ASSETS telah dimulai.\")\n",
    "\n",
    "# 5.2 Ekspor ke Google Drive\n",
    "task_drive = ee.batch.Export.image.toDrive(\n",
    "  image=ndvi_2016.toFloat(),\n",
    "  description='NDVI_Paguyaman_2016_to_Drive',\n",
    "  folder='Hasil_Analisis_DAS_Paguyaman',\n",
    "  fileNamePrefix='NDVI_Paguyaman_2016',\n",
    "  region=aoi,\n",
    "  scale=30,\n",
    "  maxPixels=1e12\n",
    ")\n",
    "task_drive.start()\n",
    "print(\"Proses ekspor ke GOOGLE DRIVE telah dimulai.\")\n",
    "print(\"\\nPERIKSA TAB 'TASKS' DI GEE CODE EDITOR UNTUK MENJALANKAN KEDUA PROSES EKSPOR.\")"
   ]
  },
  {
   "cell_type": "code",
   "execution_count": null,
   "id": "3a73b5d7-e760-4ec0-a265-078f702c66e4",
   "metadata": {},
   "outputs": [],
   "source": []
  }
 ],
 "metadata": {
  "kernelspec": {
   "display_name": "Python 3 (ipykernel)",
   "language": "python",
   "name": "python3"
  },
  "language_info": {
   "codemirror_mode": {
    "name": "ipython",
    "version": 3
   },
   "file_extension": ".py",
   "mimetype": "text/x-python",
   "name": "python",
   "nbconvert_exporter": "python",
   "pygments_lexer": "ipython3",
   "version": "3.12.10"
  }
 },
 "nbformat": 4,
 "nbformat_minor": 5
}
