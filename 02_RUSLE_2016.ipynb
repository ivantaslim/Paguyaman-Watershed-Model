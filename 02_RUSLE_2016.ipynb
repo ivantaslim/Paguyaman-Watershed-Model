{
 "cells": [
  {
   "cell_type": "code",
   "execution_count": 19,
   "id": "79502c6c-3dee-4734-a371-f052f618afe8",
   "metadata": {},
   "outputs": [
    {
     "data": {
      "text/html": [
       "\n",
       "            <style>\n",
       "                .geemap-dark {\n",
       "                    --jp-widgets-color: white;\n",
       "                    --jp-widgets-label-color: white;\n",
       "                    --jp-ui-font-color1: white;\n",
       "                    --jp-layout-color2: #454545;\n",
       "                    background-color: #383838;\n",
       "                }\n",
       "\n",
       "                .geemap-dark .jupyter-button {\n",
       "                    --jp-layout-color3: #383838;\n",
       "                }\n",
       "\n",
       "                .geemap-colab {\n",
       "                    background-color: var(--colab-primary-surface-color, white);\n",
       "                }\n",
       "\n",
       "                .geemap-colab .jupyter-button {\n",
       "                    --jp-layout-color3: var(--colab-primary-surface-color, white);\n",
       "                }\n",
       "            </style>\n",
       "            "
      ],
      "text/plain": [
       "<IPython.core.display.HTML object>"
      ]
     },
     "metadata": {},
     "output_type": "display_data"
    },
    {
     "name": "stdout",
     "output_type": "stream",
     "text": [
      "Langkah 1 Selesai: Semua faktor RUSLE telah dihitung ulang dengan sumber K-Factor yang valid.\n"
     ]
    },
    {
     "data": {
      "application/vnd.jupyter.widget-view+json": {
       "model_id": "48e82a6a6a0d4149a8aa51d88279072b",
       "version_major": 2,
       "version_minor": 0
      },
      "text/plain": [
       "Map(center=[0.7139019338201237, 122.37991662440572], controls=(WidgetControl(options=['position', 'transparent…"
      ]
     },
     "execution_count": 19,
     "metadata": {},
     "output_type": "execute_result"
    }
   ],
   "source": [
    "# Memanggil library yang dibutuhkan\n",
    "import ee\n",
    "import geemap\n",
    "\n",
    "# Autentikasi dan Inisialisasi\n",
    "ee.Authenticate()\n",
    "ee.Initialize()\n",
    "\n",
    "# Membuat peta interaktif\n",
    "Map = geemap.Map()\n",
    "\n",
    "# ======================================================================\n",
    "# MEMUAT DATA INPUT & MENDEFINISIKAN AOI\n",
    "# ======================================================================\n",
    "path_aset_lc_2016 = \"users/ivan_taslim/LC_Paguyaman_2016_DW_Filled\"\n",
    "lc_2016 = ee.Image(path_aset_lc_2016)\n",
    "aoi = lc_2016.geometry()\n",
    "Map.addLayer(aoi, {'color': 'red'}, 'Batas DAS Paguyaman (AOI)')\n",
    "Map.centerObject(aoi, 11)\n",
    "\n",
    "# ======================================================================\n",
    "# MENGHITUNG FAKTOR RUSLE (DENGAN SUMBER K-FACTOR YANG VALID)\n",
    "# ======================================================================\n",
    "\n",
    "# Faktor LS (Lereng)\n",
    "dem = ee.Image('USGS/SRTMGL1_003')\n",
    "LS_factor = ee.Terrain.slope(dem).clip(aoi)\n",
    "\n",
    "# Faktor K (Tanah) - MENGGUNAKAN ASET PUBLIK YANG SUDAH TERVERIFIKASI\n",
    "K_factor = ee.Image(\"users/hkv/SoilGrids_K_Factor\").clip(aoi)\n",
    "\n",
    "# Faktor R (Hujan)\n",
    "chirps = ee.ImageCollection('UCSB-CHG/CHIRPS/PENTAD')\n",
    "precipitation_2016 = chirps.filter(ee.Filter.date('2016-01-01', '2016-12-31')).sum().clip(aoi)\n",
    "R_factor = precipitation_2016.multiply(0.35).add(38.5)\n",
    "\n",
    "# Faktor C (Tanaman)\n",
    "reclass_dict = {\n",
    "    'from': [1, 2, 3, 4, 6],\n",
    "    'to':   [0.01, 0.6, 0.05, 0.25, 0.02]\n",
    "}\n",
    "C_factor_2016 = lc_2016.remap(reclass_dict['from'], reclass_dict['to'])\n",
    "\n",
    "print(\"Langkah 1 Selesai: Semua faktor RUSLE telah dihitung ulang dengan sumber K-Factor yang valid.\")\n",
    "Map"
   ]
  },
  {
   "cell_type": "code",
   "execution_count": 22,
   "id": "071c781f-8490-4310-a85a-5753b6f4c8d4",
   "metadata": {},
   "outputs": [
    {
     "data": {
      "text/html": [
       "\n",
       "            <style>\n",
       "                .geemap-dark {\n",
       "                    --jp-widgets-color: white;\n",
       "                    --jp-widgets-label-color: white;\n",
       "                    --jp-ui-font-color1: white;\n",
       "                    --jp-layout-color2: #454545;\n",
       "                    background-color: #383838;\n",
       "                }\n",
       "\n",
       "                .geemap-dark .jupyter-button {\n",
       "                    --jp-layout-color3: #383838;\n",
       "                }\n",
       "\n",
       "                .geemap-colab {\n",
       "                    background-color: var(--colab-primary-surface-color, white);\n",
       "                }\n",
       "\n",
       "                .geemap-colab .jupyter-button {\n",
       "                    --jp-layout-color3: var(--colab-primary-surface-color, white);\n",
       "                }\n",
       "            </style>\n",
       "            "
      ],
      "text/plain": [
       "<IPython.core.display.HTML object>"
      ]
     },
     "metadata": {},
     "output_type": "display_data"
    },
    {
     "name": "stdout",
     "output_type": "stream",
     "text": [
      "======================================================================\n",
      "MEMERIKSA NILAI MINIMUM & MAKSIMUM SETIAP FAKTOR (VERSI BARU)\n",
      "----------------------------------------------------------------------\n",
      "Pemeriksaan Faktor R (Hujan): {'precipitation_max': 735.9519455403089, 'precipitation_min': 438.3214212732389}\n"
     ]
    },
    {
     "ename": "EEException",
     "evalue": "Image.load: Image asset 'users/hkv/SoilGrids_K_Factor' not found (does not exist or caller does not have access).",
     "output_type": "error",
     "traceback": [
      "\u001b[31m---------------------------------------------------------------------------\u001b[39m",
      "\u001b[31mHttpError\u001b[39m                                 Traceback (most recent call last)",
      "\u001b[36mFile \u001b[39m\u001b[32m/opt/conda/lib/python3.12/site-packages/ee/data.py:408\u001b[39m, in \u001b[36m_execute_cloud_call\u001b[39m\u001b[34m(call, num_retries)\u001b[39m\n\u001b[32m    407\u001b[39m \u001b[38;5;28;01mtry\u001b[39;00m:\n\u001b[32m--> \u001b[39m\u001b[32m408\u001b[39m   \u001b[38;5;28;01mreturn\u001b[39;00m \u001b[43mcall\u001b[49m\u001b[43m.\u001b[49m\u001b[43mexecute\u001b[49m\u001b[43m(\u001b[49m\u001b[43mnum_retries\u001b[49m\u001b[43m=\u001b[49m\u001b[43mnum_retries\u001b[49m\u001b[43m)\u001b[49m\n\u001b[32m    409\u001b[39m \u001b[38;5;28;01mexcept\u001b[39;00m googleapiclient.errors.HttpError \u001b[38;5;28;01mas\u001b[39;00m e:\n",
      "\u001b[36mFile \u001b[39m\u001b[32m/opt/conda/lib/python3.12/site-packages/googleapiclient/_helpers.py:130\u001b[39m, in \u001b[36mpositional.<locals>.positional_decorator.<locals>.positional_wrapper\u001b[39m\u001b[34m(*args, **kwargs)\u001b[39m\n\u001b[32m    129\u001b[39m         logger.warning(message)\n\u001b[32m--> \u001b[39m\u001b[32m130\u001b[39m \u001b[38;5;28;01mreturn\u001b[39;00m \u001b[43mwrapped\u001b[49m\u001b[43m(\u001b[49m\u001b[43m*\u001b[49m\u001b[43margs\u001b[49m\u001b[43m,\u001b[49m\u001b[43m \u001b[49m\u001b[43m*\u001b[49m\u001b[43m*\u001b[49m\u001b[43mkwargs\u001b[49m\u001b[43m)\u001b[49m\n",
      "\u001b[36mFile \u001b[39m\u001b[32m/opt/conda/lib/python3.12/site-packages/googleapiclient/http.py:938\u001b[39m, in \u001b[36mHttpRequest.execute\u001b[39m\u001b[34m(self, http, num_retries)\u001b[39m\n\u001b[32m    937\u001b[39m \u001b[38;5;28;01mif\u001b[39;00m resp.status >= \u001b[32m300\u001b[39m:\n\u001b[32m--> \u001b[39m\u001b[32m938\u001b[39m     \u001b[38;5;28;01mraise\u001b[39;00m HttpError(resp, content, uri=\u001b[38;5;28mself\u001b[39m.uri)\n\u001b[32m    939\u001b[39m \u001b[38;5;28;01mreturn\u001b[39;00m \u001b[38;5;28mself\u001b[39m.postproc(resp, content)\n",
      "\u001b[31mHttpError\u001b[39m: <HttpError 400 when requesting https://earthengine.googleapis.com/v1/projects/822819228359/value:compute?prettyPrint=false&alt=json returned \"Image.load: Image asset 'users/hkv/SoilGrids_K_Factor' not found (does not exist or caller does not have access).\". Details: \"Image.load: Image asset 'users/hkv/SoilGrids_K_Factor' not found (does not exist or caller does not have access).\">",
      "\nDuring handling of the above exception, another exception occurred:\n",
      "\u001b[31mEEException\u001b[39m                               Traceback (most recent call last)",
      "\u001b[36mCell\u001b[39m\u001b[36m \u001b[39m\u001b[32mIn[22]\u001b[39m\u001b[32m, line 22\u001b[39m\n\u001b[32m     20\u001b[39m \u001b[38;5;28mprint\u001b[39m(\u001b[33m\"\u001b[39m\u001b[33m----------------------------------------------------------------------\u001b[39m\u001b[33m\"\u001b[39m)\n\u001b[32m     21\u001b[39m print_min_max(R_factor, \u001b[33m'\u001b[39m\u001b[33mR (Hujan)\u001b[39m\u001b[33m'\u001b[39m, aoi)\n\u001b[32m---> \u001b[39m\u001b[32m22\u001b[39m \u001b[43mprint_min_max\u001b[49m\u001b[43m(\u001b[49m\u001b[43mK_factor\u001b[49m\u001b[43m,\u001b[49m\u001b[43m \u001b[49m\u001b[33;43m'\u001b[39;49m\u001b[33;43mK (Tanah)\u001b[39;49m\u001b[33;43m'\u001b[39;49m\u001b[43m,\u001b[49m\u001b[43m \u001b[49m\u001b[43maoi\u001b[49m\u001b[43m)\u001b[49m\n\u001b[32m     23\u001b[39m print_min_max(LS_factor, \u001b[33m'\u001b[39m\u001b[33mLS (Lereng)\u001b[39m\u001b[33m'\u001b[39m, aoi)\n\u001b[32m     24\u001b[39m \u001b[38;5;28mprint\u001b[39m(\u001b[33m\"\u001b[39m\u001b[33m======================================================================\u001b[39m\u001b[33m\"\u001b[39m)\n",
      "\u001b[36mCell\u001b[39m\u001b[36m \u001b[39m\u001b[32mIn[22]\u001b[39m\u001b[32m, line 8\u001b[39m, in \u001b[36mprint_min_max\u001b[39m\u001b[34m(image, name, aoi)\u001b[39m\n\u001b[32m      6\u001b[39m \u001b[38;5;28;01mdef\u001b[39;00m\u001b[38;5;250m \u001b[39m\u001b[34mprint_min_max\u001b[39m(image, name, aoi):\n\u001b[32m      7\u001b[39m     \u001b[38;5;66;03m# Dapatkan nama band pertama untuk pelaporan yang lebih jelas\u001b[39;00m\n\u001b[32m----> \u001b[39m\u001b[32m8\u001b[39m     band_name = \u001b[43mimage\u001b[49m\u001b[43m.\u001b[49m\u001b[43mbandNames\u001b[49m\u001b[43m(\u001b[49m\u001b[43m)\u001b[49m\u001b[43m.\u001b[49m\u001b[43mget\u001b[49m\u001b[43m(\u001b[49m\u001b[32;43m0\u001b[39;49m\u001b[43m)\u001b[49m\u001b[43m.\u001b[49m\u001b[43mgetInfo\u001b[49m\u001b[43m(\u001b[49m\u001b[43m)\u001b[49m\n\u001b[32m      9\u001b[39m     stats = image.reduceRegion(\n\u001b[32m     10\u001b[39m         reducer=ee.Reducer.minMax(),\n\u001b[32m     11\u001b[39m         geometry=aoi,\n\u001b[32m     12\u001b[39m         scale=\u001b[32m90\u001b[39m, \u001b[38;5;66;03m# Skala audit\u001b[39;00m\n\u001b[32m     13\u001b[39m         maxPixels=\u001b[32m1e9\u001b[39m\n\u001b[32m     14\u001b[39m     ).getInfo()\n\u001b[32m     15\u001b[39m     \u001b[38;5;28mprint\u001b[39m(\u001b[33mf\u001b[39m\u001b[33m\"\u001b[39m\u001b[33mPemeriksaan Faktor \u001b[39m\u001b[38;5;132;01m{\u001b[39;00mname\u001b[38;5;132;01m}\u001b[39;00m\u001b[33m: \u001b[39m\u001b[38;5;132;01m{\u001b[39;00mstats\u001b[38;5;132;01m}\u001b[39;00m\u001b[33m\"\u001b[39m)\n",
      "\u001b[36mFile \u001b[39m\u001b[32m/opt/conda/lib/python3.12/site-packages/ee/computedobject.py:107\u001b[39m, in \u001b[36mComputedObject.getInfo\u001b[39m\u001b[34m(self)\u001b[39m\n\u001b[32m    101\u001b[39m \u001b[38;5;28;01mdef\u001b[39;00m\u001b[38;5;250m \u001b[39m\u001b[34mgetInfo\u001b[39m(\u001b[38;5;28mself\u001b[39m) -> Optional[Any]:\n\u001b[32m    102\u001b[39m \u001b[38;5;250m  \u001b[39m\u001b[33;03m\"\"\"Fetch and return information about this object.\u001b[39;00m\n\u001b[32m    103\u001b[39m \n\u001b[32m    104\u001b[39m \u001b[33;03m  Returns:\u001b[39;00m\n\u001b[32m    105\u001b[39m \u001b[33;03m    The object can evaluate to anything.\u001b[39;00m\n\u001b[32m    106\u001b[39m \u001b[33;03m  \"\"\"\u001b[39;00m\n\u001b[32m--> \u001b[39m\u001b[32m107\u001b[39m   \u001b[38;5;28;01mreturn\u001b[39;00m \u001b[43mdata\u001b[49m\u001b[43m.\u001b[49m\u001b[43mcomputeValue\u001b[49m\u001b[43m(\u001b[49m\u001b[38;5;28;43mself\u001b[39;49m\u001b[43m)\u001b[49m\n",
      "\u001b[36mFile \u001b[39m\u001b[32m/opt/conda/lib/python3.12/site-packages/ee/data.py:1128\u001b[39m, in \u001b[36mcomputeValue\u001b[39m\u001b[34m(obj)\u001b[39m\n\u001b[32m   1125\u001b[39m body = {\u001b[33m'\u001b[39m\u001b[33mexpression\u001b[39m\u001b[33m'\u001b[39m: serializer.encode(obj, for_cloud_api=\u001b[38;5;28;01mTrue\u001b[39;00m)}\n\u001b[32m   1126\u001b[39m _maybe_populate_workload_tag(body)\n\u001b[32m-> \u001b[39m\u001b[32m1128\u001b[39m \u001b[38;5;28;01mreturn\u001b[39;00m \u001b[43m_execute_cloud_call\u001b[49m\u001b[43m(\u001b[49m\n\u001b[32m   1129\u001b[39m \u001b[43m    \u001b[49m\u001b[43m_get_cloud_projects\u001b[49m\u001b[43m(\u001b[49m\u001b[43m)\u001b[49m\n\u001b[32m   1130\u001b[39m \u001b[43m    \u001b[49m\u001b[43m.\u001b[49m\u001b[43mvalue\u001b[49m\u001b[43m(\u001b[49m\u001b[43m)\u001b[49m\n\u001b[32m   1131\u001b[39m \u001b[43m    \u001b[49m\u001b[43m.\u001b[49m\u001b[43mcompute\u001b[49m\u001b[43m(\u001b[49m\u001b[43mbody\u001b[49m\u001b[43m=\u001b[49m\u001b[43mbody\u001b[49m\u001b[43m,\u001b[49m\u001b[43m \u001b[49m\u001b[43mproject\u001b[49m\u001b[43m=\u001b[49m\u001b[43m_get_projects_path\u001b[49m\u001b[43m(\u001b[49m\u001b[43m)\u001b[49m\u001b[43m,\u001b[49m\u001b[43m \u001b[49m\u001b[43mprettyPrint\u001b[49m\u001b[43m=\u001b[49m\u001b[38;5;28;43;01mFalse\u001b[39;49;00m\u001b[43m)\u001b[49m\n\u001b[32m   1132\u001b[39m \u001b[43m\u001b[49m\u001b[43m)\u001b[49m[\u001b[33m'\u001b[39m\u001b[33mresult\u001b[39m\u001b[33m'\u001b[39m]\n",
      "\u001b[36mFile \u001b[39m\u001b[32m/opt/conda/lib/python3.12/site-packages/ee/data.py:410\u001b[39m, in \u001b[36m_execute_cloud_call\u001b[39m\u001b[34m(call, num_retries)\u001b[39m\n\u001b[32m    408\u001b[39m   \u001b[38;5;28;01mreturn\u001b[39;00m call.execute(num_retries=num_retries)\n\u001b[32m    409\u001b[39m \u001b[38;5;28;01mexcept\u001b[39;00m googleapiclient.errors.HttpError \u001b[38;5;28;01mas\u001b[39;00m e:\n\u001b[32m--> \u001b[39m\u001b[32m410\u001b[39m   \u001b[38;5;28;01mraise\u001b[39;00m _translate_cloud_exception(e)\n",
      "\u001b[31mEEException\u001b[39m: Image.load: Image asset 'users/hkv/SoilGrids_K_Factor' not found (does not exist or caller does not have access)."
     ]
    }
   ],
   "source": [
    "# ======================================================================\n",
    "# PEMERIKSAAN LANJUTAN (JALANKAN SETELAH LANGKAH 1 YANG DIPERBAIKI)\n",
    "# ======================================================================\n",
    "\n",
    "# Fungsi untuk mencetak nilai min dan max dari sebuah gambar\n",
    "def print_min_max(image, name, aoi):\n",
    "    # Dapatkan nama band pertama untuk pelaporan yang lebih jelas\n",
    "    band_name = image.bandNames().get(0).getInfo()\n",
    "    stats = image.reduceRegion(\n",
    "        reducer=ee.Reducer.minMax(),\n",
    "        geometry=aoi,\n",
    "        scale=90, # Skala audit\n",
    "        maxPixels=1e9\n",
    "    ).getInfo()\n",
    "    print(f\"Pemeriksaan Faktor {name}: {stats}\")\n",
    "\n",
    "# Lakukan pengecekan untuk setiap faktor yang baru dibuat\n",
    "print(\"======================================================================\")\n",
    "print(\"MEMERIKSA NILAI MINIMUM & MAKSIMUM SETIAP FAKTOR (VERSI BARU)\")\n",
    "print(\"----------------------------------------------------------------------\")\n",
    "print_min_max(R_factor, 'R (Hujan)', aoi)\n",
    "print_min_max(K_factor, 'K (Tanah)', aoi)\n",
    "print_min_max(LS_factor, 'LS (Lereng)', aoi)\n",
    "print(\"======================================================================\")"
   ]
  },
  {
   "cell_type": "code",
   "execution_count": 9,
   "id": "06baf07b-c3dd-49c7-95aa-4a3103f2c1f5",
   "metadata": {},
   "outputs": [
    {
     "data": {
      "text/html": [
       "\n",
       "            <style>\n",
       "                .geemap-dark {\n",
       "                    --jp-widgets-color: white;\n",
       "                    --jp-widgets-label-color: white;\n",
       "                    --jp-ui-font-color1: white;\n",
       "                    --jp-layout-color2: #454545;\n",
       "                    background-color: #383838;\n",
       "                }\n",
       "\n",
       "                .geemap-dark .jupyter-button {\n",
       "                    --jp-layout-color3: #383838;\n",
       "                }\n",
       "\n",
       "                .geemap-colab {\n",
       "                    background-color: var(--colab-primary-surface-color, white);\n",
       "                }\n",
       "\n",
       "                .geemap-colab .jupyter-button {\n",
       "                    --jp-layout-color3: var(--colab-primary-surface-color, white);\n",
       "                }\n",
       "            </style>\n",
       "            "
      ],
      "text/plain": [
       "<IPython.core.display.HTML object>"
      ]
     },
     "metadata": {},
     "output_type": "display_data"
    },
    {
     "name": "stdout",
     "output_type": "stream",
     "text": [
      "======================================================================\n",
      "UJI SENSITIVITAS (FAKTOR C NAIK 50%)\n",
      "----------------------------------------------------------------------\n",
      "Nilai Erosi Rata-rata (Uji Sensitivitas): 0.0000 ton/ha/tahun\n",
      "======================================================================\n"
     ]
    }
   ],
   "source": [
    "# Membuat Faktor C baru yang nilainya 50% lebih tinggi\n",
    "C_factor_sensitivity = C_factor_2016.multiply(1.5)\n",
    "\n",
    "# Menghitung ulang erosi dengan Faktor C yang baru\n",
    "erosion_sensitivity = R_factor.multiply(K_factor).multiply(LS_factor).multiply(C_factor_sensitivity).select([0]).rename('erosion')\n",
    "\n",
    "# Menghitung statistik rata-rata untuk uji sensitivitas\n",
    "stats_sensitivity = erosion_sensitivity.reduceRegion(\n",
    "    reducer=ee.Reducer.mean(),\n",
    "    geometry=aoi,\n",
    "    scale=90,\n",
    "    maxPixels=1e12\n",
    ")\n",
    "\n",
    "# Menampilkan hasil uji sensitivitas\n",
    "avg_erosion_sensitivity = stats_sensitivity.get('erosion').getInfo()\n",
    "print(\"======================================================================\")\n",
    "print(\"UJI SENSITIVITAS (FAKTOR C NAIK 50%)\")\n",
    "print(\"----------------------------------------------------------------------\")\n",
    "print(f\"Nilai Erosi Rata-rata (Uji Sensitivitas): {avg_erosion_sensitivity:.4f} ton/ha/tahun\")\n",
    "print(\"======================================================================\")"
   ]
  },
  {
   "cell_type": "code",
   "execution_count": 10,
   "id": "db610d27-e9c0-4352-b3e4-18cd775a3277",
   "metadata": {},
   "outputs": [
    {
     "data": {
      "text/html": [
       "\n",
       "            <style>\n",
       "                .geemap-dark {\n",
       "                    --jp-widgets-color: white;\n",
       "                    --jp-widgets-label-color: white;\n",
       "                    --jp-ui-font-color1: white;\n",
       "                    --jp-layout-color2: #454545;\n",
       "                    background-color: #383838;\n",
       "                }\n",
       "\n",
       "                .geemap-dark .jupyter-button {\n",
       "                    --jp-layout-color3: #383838;\n",
       "                }\n",
       "\n",
       "                .geemap-colab {\n",
       "                    background-color: var(--colab-primary-surface-color, white);\n",
       "                }\n",
       "\n",
       "                .geemap-colab .jupyter-button {\n",
       "                    --jp-layout-color3: var(--colab-primary-surface-color, white);\n",
       "                }\n",
       "            </style>\n",
       "            "
      ],
      "text/plain": [
       "<IPython.core.display.HTML object>"
      ]
     },
     "metadata": {},
     "output_type": "display_data"
    },
    {
     "ename": "TypeError",
     "evalue": "Reducer.histogram() got an unexpected keyword argument 'minValue'",
     "output_type": "error",
     "traceback": [
      "\u001b[31m---------------------------------------------------------------------------\u001b[39m",
      "\u001b[31mTypeError\u001b[39m                                 Traceback (most recent call last)",
      "\u001b[36mCell\u001b[39m\u001b[36m \u001b[39m\u001b[32mIn[10]\u001b[39m\u001b[32m, line 3\u001b[39m\n\u001b[32m      1\u001b[39m \u001b[38;5;66;03m# Menghitung histogram dari nilai piksel di peta erosi\u001b[39;00m\n\u001b[32m      2\u001b[39m histogram_info = soil_erosion_2016.reduceRegion(\n\u001b[32m----> \u001b[39m\u001b[32m3\u001b[39m     reducer=\u001b[43mee\u001b[49m\u001b[43m.\u001b[49m\u001b[43mReducer\u001b[49m\u001b[43m.\u001b[49m\u001b[43mhistogram\u001b[49m\u001b[43m(\u001b[49m\u001b[43mmaxBuckets\u001b[49m\u001b[43m=\u001b[49m\u001b[32;43m30\u001b[39;49m\u001b[43m,\u001b[49m\u001b[43m \u001b[49m\u001b[43mminValue\u001b[49m\u001b[43m=\u001b[49m\u001b[32;43m0\u001b[39;49m\u001b[43m,\u001b[49m\u001b[43m \u001b[49m\u001b[43mmaxValue\u001b[49m\u001b[43m=\u001b[49m\u001b[32;43m0.1\u001b[39;49m\u001b[43m)\u001b[49m, \u001b[38;5;66;03m# Fokus pada nilai sangat kecil\u001b[39;00m\n\u001b[32m      4\u001b[39m     geometry=aoi,\n\u001b[32m      5\u001b[39m     scale=\u001b[32m90\u001b[39m,\n\u001b[32m      6\u001b[39m     maxPixels=\u001b[32m1e12\u001b[39m\n\u001b[32m      7\u001b[39m ).get(\u001b[33m'\u001b[39m\u001b[33merosion\u001b[39m\u001b[33m'\u001b[39m).getInfo()\n\u001b[32m      9\u001b[39m \u001b[38;5;66;03m# Memproses data untuk plotting\u001b[39;00m\n\u001b[32m     10\u001b[39m \u001b[38;5;28;01mif\u001b[39;00m histogram_info \u001b[38;5;129;01mand\u001b[39;00m \u001b[33m'\u001b[39m\u001b[33mbucketMeans\u001b[39m\u001b[33m'\u001b[39m \u001b[38;5;129;01min\u001b[39;00m histogram_info \u001b[38;5;129;01mand\u001b[39;00m \u001b[33m'\u001b[39m\u001b[33mhistogram\u001b[39m\u001b[33m'\u001b[39m \u001b[38;5;129;01min\u001b[39;00m histogram_info:\n",
      "\u001b[31mTypeError\u001b[39m: Reducer.histogram() got an unexpected keyword argument 'minValue'"
     ]
    }
   ],
   "source": [
    "# Menghitung histogram dari nilai piksel di peta erosi\n",
    "histogram_info = soil_erosion_2016.reduceRegion(\n",
    "    reducer=ee.Reducer.histogram(maxBuckets=30, minValue=0, maxValue=0.1), # Fokus pada nilai sangat kecil\n",
    "    geometry=aoi,\n",
    "    scale=90,\n",
    "    maxPixels=1e12\n",
    ").get('erosion').getInfo()\n",
    "\n",
    "# Memproses data untuk plotting\n",
    "if histogram_info and 'bucketMeans' in histogram_info and 'histogram' in histogram_info:\n",
    "    x = histogram_info['bucketMeans']\n",
    "    y = histogram_info['histogram']\n",
    "    \n",
    "    # Membuat plot\n",
    "    plt.figure(figsize=(10, 6))\n",
    "    plt.bar(x, y, width=0.005)\n",
    "    plt.title('Histogram Sebaran Nilai Erosi Piksel (Tahun 2016)')\n",
    "    plt.xlabel('Nilai Erosi (ton/ha/tahun)')\n",
    "    plt.ylabel('Jumlah Piksel')\n",
    "    plt.grid(True, linestyle='--', alpha=0.6)\n",
    "    plt.show()\n",
    "else:\n",
    "    print(\"Tidak dapat membuat histogram, kemungkinan semua nilai piksel identik (nol).\")"
   ]
  },
  {
   "cell_type": "code",
   "execution_count": 11,
   "id": "349304e2-298e-4266-a7c3-28ddfaffe211",
   "metadata": {},
   "outputs": [
    {
     "data": {
      "text/html": [
       "\n",
       "            <style>\n",
       "                .geemap-dark {\n",
       "                    --jp-widgets-color: white;\n",
       "                    --jp-widgets-label-color: white;\n",
       "                    --jp-ui-font-color1: white;\n",
       "                    --jp-layout-color2: #454545;\n",
       "                    background-color: #383838;\n",
       "                }\n",
       "\n",
       "                .geemap-dark .jupyter-button {\n",
       "                    --jp-layout-color3: #383838;\n",
       "                }\n",
       "\n",
       "                .geemap-colab {\n",
       "                    background-color: var(--colab-primary-surface-color, white);\n",
       "                }\n",
       "\n",
       "                .geemap-colab .jupyter-button {\n",
       "                    --jp-layout-color3: var(--colab-primary-surface-color, white);\n",
       "                }\n",
       "            </style>\n",
       "            "
      ],
      "text/plain": [
       "<IPython.core.display.HTML object>"
      ]
     },
     "metadata": {},
     "output_type": "display_data"
    },
    {
     "name": "stdout",
     "output_type": "stream",
     "text": [
      "======================================================================\n",
      "MEMERIKSA NILAI MINIMUM & MAKSIMUM SETIAP FAKTOR\n",
      "----------------------------------------------------------------------\n",
      "Pemeriksaan Faktor R (Hujan): {'precipitation_max': 735.9519455403089, 'precipitation_min': 438.3214212732389}\n",
      "Pemeriksaan Faktor K (Tanah): {'silt_0-5cm_mean_max': 0, 'silt_0-5cm_mean_min': 0}\n",
      "Pemeriksaan Faktor LS (Lereng): {'slope_max': 58.33685888552522, 'slope_min': 0}\n",
      "======================================================================\n"
     ]
    }
   ],
   "source": [
    "# Fungsi untuk mencetak nilai min dan max dari sebuah gambar\n",
    "def print_min_max(image, name, aoi):\n",
    "    stats = image.reduceRegion(\n",
    "        reducer=ee.Reducer.minMax(),\n",
    "        geometry=aoi,\n",
    "        scale=90,\n",
    "        maxPixels=1e9\n",
    "    ).getInfo()\n",
    "    print(f\"Pemeriksaan Faktor {name}: {stats}\")\n",
    "\n",
    "# Lakukan pengecekan untuk setiap faktor\n",
    "print(\"======================================================================\")\n",
    "print(\"MEMERIKSA NILAI MINIMUM & MAKSIMUM SETIAP FAKTOR\")\n",
    "print(\"----------------------------------------------------------------------\")\n",
    "print_min_max(R_factor, 'R (Hujan)', aoi)\n",
    "print_min_max(K_factor, 'K (Tanah)', aoi)\n",
    "print_min_max(LS_factor, 'LS (Lereng)', aoi)\n",
    "print(\"======================================================================\")"
   ]
  },
  {
   "cell_type": "code",
   "execution_count": 25,
   "id": "b3b957d8-d140-4113-8218-993d916cc89a",
   "metadata": {},
   "outputs": [
    {
     "data": {
      "text/html": [
       "\n",
       "            <style>\n",
       "                .geemap-dark {\n",
       "                    --jp-widgets-color: white;\n",
       "                    --jp-widgets-label-color: white;\n",
       "                    --jp-ui-font-color1: white;\n",
       "                    --jp-layout-color2: #454545;\n",
       "                    background-color: #383838;\n",
       "                }\n",
       "\n",
       "                .geemap-dark .jupyter-button {\n",
       "                    --jp-layout-color3: #383838;\n",
       "                }\n",
       "\n",
       "                .geemap-colab {\n",
       "                    background-color: var(--colab-primary-surface-color, white);\n",
       "                }\n",
       "\n",
       "                .geemap-colab .jupyter-button {\n",
       "                    --jp-layout-color3: var(--colab-primary-surface-color, white);\n",
       "                }\n",
       "            </style>\n",
       "            "
      ],
      "text/plain": [
       "<IPython.core.display.HTML object>"
      ]
     },
     "metadata": {},
     "output_type": "display_data"
    },
    {
     "name": "stdout",
     "output_type": "stream",
     "text": [
      "Langkah 1: Memuat data dasar...\n",
      "\n",
      "Langkah 2: Menghitung Faktor K dengan unit yang benar...\n",
      "\n",
      "Langkah 3: Menghitung faktor lainnya dan erosi final...\n",
      "\n",
      "Langkah 4: Menampilkan hasil akhir...\n",
      "======================================================================\n",
      "HASIL PERHITUNGAN EROSI FINAL (SETELAH PERBAIKAN TOTAL)\n",
      "----------------------------------------------------------------------\n",
      "Nilai Erosi Rata-rata (presisi tinggi): 26.1697227021 ton/ha/tahun\n",
      "======================================================================\n"
     ]
    },
    {
     "data": {
      "application/vnd.jupyter.widget-view+json": {
       "model_id": "e79927a85f0443d99b11679a3e756566",
       "version_major": 2,
       "version_minor": 0
      },
      "text/plain": [
       "Map(center=[0.7139019338201237, 122.37991662440572], controls=(WidgetControl(options=['position', 'transparent…"
      ]
     },
     "execution_count": 25,
     "metadata": {},
     "output_type": "execute_result"
    }
   ],
   "source": [
    "# ======================================================================\n",
    "# AUDIT & PERHITUNGAN EROSI FINAL (DENGAN UNIT YANG BENAR)\n",
    "# ======================================================================\n",
    "\n",
    "# Memanggil library yang dibutuhkan\n",
    "import ee\n",
    "import geemap\n",
    "\n",
    "# Autentikasi dan Inisialisasi\n",
    "ee.Authenticate()\n",
    "ee.Initialize()\n",
    "Map = geemap.Map()\n",
    "\n",
    "# ----------------------------------------------------------------------\n",
    "# 1. PERSIAPAN DATA DASAR\n",
    "# ----------------------------------------------------------------------\n",
    "print(\"Langkah 1: Memuat data dasar...\")\n",
    "path_aset_lc_2016 = \"users/ivan_taslim/LC_Paguyaman_2016_DW_Filled\"\n",
    "lc_2016 = ee.Image(path_aset_lc_2016)\n",
    "aoi = lc_2016.geometry()\n",
    "Map.addLayer(aoi, {'color': 'red'}, 'Batas DAS Paguyaman (AOI)')\n",
    "Map.centerObject(aoi, 11)\n",
    "\n",
    "# ----------------------------------------------------------------------\n",
    "# 2. MENGHITUNG FAKTOR K DENGAN KONVERSI UNIT YANG BENAR\n",
    "# ----------------------------------------------------------------------\n",
    "print(\"\\nLangkah 2: Menghitung Faktor K dengan unit yang benar...\")\n",
    "\n",
    "# Memuat data tanah primer\n",
    "sand_raw = ee.Image(\"projects/soilgrids-isric/sand_mean\").select(0).clip(aoi)\n",
    "silt_raw = ee.Image(\"projects/soilgrids-isric/silt_mean\").select(0).clip(aoi)\n",
    "clay_raw = ee.Image(\"projects/soilgrids-isric/clay_mean\").select(0).clip(aoi)\n",
    "org_carbon_raw = ee.Image(\"projects/soilgrids-isric/soc_mean\").select(0).clip(aoi)\n",
    "\n",
    "# == PERBAIKAN UTAMA: Konversi dari g/kg dan dg/kg ke fraksi desimal ==\n",
    "sand = sand_raw.divide(1000.0)\n",
    "silt = silt_raw.divide(1000.0)\n",
    "clay = clay_raw.divide(1000.0)\n",
    "org_matter = org_carbon_raw.divide(1000.0) # Organic Matter (OM) = SOC / 10 * 1.724 -> disederhanakan\n",
    "\n",
    "# Menghitung Faktor K menggunakan rumus Wischmeier & Smith (1978)\n",
    "A = (silt.multiply(ee.Image(1.0).subtract(clay))).multiply(-0.0256).exp()\n",
    "B = silt.divide(clay.add(silt))\n",
    "C = ee.Image(1.0).subtract(ee.Image(0.25).multiply(org_matter).divide(org_matter.add(ee.Image(0.025).multiply(org_matter).multiply(-1).add(3.72)).exp()))\n",
    "D = ee.Image(1.0).subtract(ee.Image(0.7).multiply(ee.Image(1.0).subtract(sand)).divide(ee.Image(1.0).subtract(sand).add(ee.Image(-5.51).add(ee.Image(22.9).multiply(ee.Image(1.0).subtract(sand)))).exp()))\n",
    "K_factor = A.multiply(B.pow(1.14)).multiply(C).multiply(D).multiply(0.1317).rename('k_factor')\n",
    "\n",
    "# ----------------------------------------------------------------------\n",
    "# 3. MENGHITUNG FAKTOR LAINNYA & EROSI FINAL\n",
    "# ----------------------------------------------------------------------\n",
    "print(\"\\nLangkah 3: Menghitung faktor lainnya dan erosi final...\")\n",
    "\n",
    "# Faktor LS\n",
    "dem = ee.Image('USGS/SRTMGL1_003')\n",
    "LS_factor = ee.Terrain.slope(dem).clip(aoi)\n",
    "\n",
    "# Faktor R\n",
    "chirps = ee.ImageCollection('UCSB-CHG/CHIRPS/PENTAD')\n",
    "precipitation_2016 = chirps.filter(ee.Filter.date('2016-01-01', '2016-12-31')).sum().clip(aoi)\n",
    "R_factor = precipitation_2016.multiply(0.35).add(38.5)\n",
    "\n",
    "# Faktor C\n",
    "reclass_dict = {'from': [1, 2, 3, 4, 6], 'to': [0.01, 0.6, 0.05, 0.25, 0.02]}\n",
    "C_factor_2016 = lc_2016.remap(reclass_dict['from'], reclass_dict['to'])\n",
    "\n",
    "# Menghitung erosi final\n",
    "soil_erosion_2016 = R_factor.multiply(K_factor).multiply(LS_factor).multiply(C_factor_2016).rename('erosion')\n",
    "\n",
    "# ----------------------------------------------------------------------\n",
    "# 4. MENAMPILKAN HASIL AKHIR\n",
    "# ----------------------------------------------------------------------\n",
    "print(\"\\nLangkah 4: Menampilkan hasil akhir...\")\n",
    "\n",
    "stats_final = soil_erosion_2016.reduceRegion(\n",
    "    reducer=ee.Reducer.mean(), geometry=aoi, scale=90, maxPixels=1e12\n",
    ")\n",
    "\n",
    "avg_erosion_final = stats_final.get('erosion').getInfo()\n",
    "print(\"======================================================================\")\n",
    "print(\"HASIL PERHITUNGAN EROSI FINAL (SETELAH PERBAIKAN TOTAL)\")\n",
    "print(\"----------------------------------------------------------------------\")\n",
    "print(f\"Nilai Erosi Rata-rata (presisi tinggi): {avg_erosion_final:.10f} ton/ha/tahun\")\n",
    "print(\"======================================================================\")\n",
    "\n",
    "# Menampilkan peta erosi di peta interaktif\n",
    "erosion_palette = ['#32CD32', '#FFFF00', '#FFA500', '#FF4500', '#FF0000']\n",
    "Map.addLayer(soil_erosion_2016, {'min': 0, 'max': 50, 'palette': erosion_palette}, 'Peta Erosi 2016 (FINAL)')\n",
    "Map"
   ]
  },
  {
   "cell_type": "code",
   "execution_count": 26,
   "id": "369b7ae4-09d1-4f59-840f-df2ef5514232",
   "metadata": {},
   "outputs": [
    {
     "data": {
      "text/html": [
       "\n",
       "            <style>\n",
       "                .geemap-dark {\n",
       "                    --jp-widgets-color: white;\n",
       "                    --jp-widgets-label-color: white;\n",
       "                    --jp-ui-font-color1: white;\n",
       "                    --jp-layout-color2: #454545;\n",
       "                    background-color: #383838;\n",
       "                }\n",
       "\n",
       "                .geemap-dark .jupyter-button {\n",
       "                    --jp-layout-color3: #383838;\n",
       "                }\n",
       "\n",
       "                .geemap-colab {\n",
       "                    background-color: var(--colab-primary-surface-color, white);\n",
       "                }\n",
       "\n",
       "                .geemap-colab .jupyter-button {\n",
       "                    --jp-layout-color3: var(--colab-primary-surface-color, white);\n",
       "                }\n",
       "            </style>\n",
       "            "
      ],
      "text/plain": [
       "<IPython.core.display.HTML object>"
      ]
     },
     "metadata": {},
     "output_type": "display_data"
    },
    {
     "name": "stdout",
     "output_type": "stream",
     "text": [
      "Proses ekspor Erosi 2016 ke GEE ASSETS telah dimulai.\n",
      "Proses ekspor Erosi 2016 ke GOOGLE DRIVE telah dimulai.\n",
      "\n",
      "PERIKSA TAB 'TASKS' DI GEE CODE EDITOR UNTUK MENJALANKAN KEDUA PROSES EKSPOR.\n"
     ]
    }
   ],
   "source": [
    "# ======================================================================\n",
    "# LANGKAH 5: EKSPOR PETA EROSI\n",
    "# ======================================================================\n",
    "\n",
    "# --- Pastikan variabel di bawah ini sudah benar sesuai tahun analisis Anda ---\n",
    "# Ganti dengan variabel hasil erosi yang sesuai (misal: soil_erosion_2016,2020 atau soil_erosion_2024)\n",
    "gambar_untuk_ekspor = soil_erosion_2016 \n",
    "# Ganti dengan tahun yang sesuai\n",
    "TAHUN_EKSPOR = 2016\n",
    "# -----------------------------------------------------------------------------\n",
    "\n",
    "\n",
    "# 5.1 Ekspor ke GEE Assets\n",
    "task_asset = ee.batch.Export.image.toAsset(\n",
    "  image=gambar_untuk_ekspor.toFloat(),\n",
    "  description=f'Erosi_Paguyaman_{TAHUN_EKSPOR}_to_Asset',\n",
    "  assetId=f'users/ivan_taslim/Erosi_Paguyaman_{TAHUN_EKSPOR}',\n",
    "  region=aoi,\n",
    "  scale=30,\n",
    "  maxPixels=1e12\n",
    ")\n",
    "task_asset.start()\n",
    "print(f\"Proses ekspor Erosi {TAHUN_EKSPOR} ke GEE ASSETS telah dimulai.\")\n",
    "\n",
    "# 5.2 Ekspor ke Google Drive\n",
    "task_drive = ee.batch.Export.image.toDrive(\n",
    "  image=gambar_untuk_ekspor.toFloat(),\n",
    "  description=f'Erosi_Paguyaman_{TAHUN_EKSPOR}_to_Drive',\n",
    "  folder='Hasil_Analisis_DAS_Paguyaman',\n",
    "  fileNamePrefix=f'Erosi_Paguyaman_{TAHUN_EKSPOR}',\n",
    "  region=aoi,\n",
    "  scale=30,\n",
    "  maxPixels=1e12\n",
    ")\n",
    "task_drive.start()\n",
    "print(f\"Proses ekspor Erosi {TAHUN_EKSPOR} ke GOOGLE DRIVE telah dimulai.\")\n",
    "print(\"\\nPERIKSA TAB 'TASKS' DI GEE CODE EDITOR UNTUK MENJALANKAN KEDUA PROSES EKSPOR.\")"
   ]
  },
  {
   "cell_type": "code",
   "execution_count": null,
   "id": "c50cc993-a39f-4abf-a8e2-ce27b320660a",
   "metadata": {},
   "outputs": [],
   "source": []
  }
 ],
 "metadata": {
  "kernelspec": {
   "display_name": "Python 3 (ipykernel)",
   "language": "python",
   "name": "python3"
  },
  "language_info": {
   "codemirror_mode": {
    "name": "ipython",
    "version": 3
   },
   "file_extension": ".py",
   "mimetype": "text/x-python",
   "name": "python",
   "nbconvert_exporter": "python",
   "pygments_lexer": "ipython3",
   "version": "3.12.10"
  }
 },
 "nbformat": 4,
 "nbformat_minor": 5
}
